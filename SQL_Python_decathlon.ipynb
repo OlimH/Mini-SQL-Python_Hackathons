{
 "cells": [
  {
   "cell_type": "code",
   "execution_count": 2,
   "metadata": {},
   "outputs": [],
   "source": [
    "#SQL TEST\n",
    "\n",
    "import sqlite3\n",
    "from sqlite3 import OperationalError"
   ]
  },
  {
   "cell_type": "code",
   "execution_count": 3,
   "metadata": {},
   "outputs": [],
   "source": [
    "conn = sqlite3.connect('Test.db')"
   ]
  },
  {
   "cell_type": "code",
   "execution_count": 4,
   "metadata": {},
   "outputs": [],
   "source": [
    "c = conn.cursor()"
   ]
  },
  {
   "cell_type": "code",
   "execution_count": 602,
   "metadata": {},
   "outputs": [
    {
     "name": "stdout",
     "output_type": "stream",
     "text": [
      "         name\n",
      "0       Album\n",
      "1       genre\n",
      "2        Song\n",
      "3  Song_Album\n",
      "4      Artist\n",
      "5      Charts\n"
     ]
    }
   ],
   "source": [
    "#Show all Tables in the DB\n",
    "\n",
    "import pandas as pd\n",
    "table = pd.read_sql_query(\"SELECT name FROM sqlite_master WHERE type='table'\", conn)\n",
    "print(table)"
   ]
  },
  {
   "cell_type": "code",
   "execution_count": 601,
   "metadata": {},
   "outputs": [
    {
     "data": {
      "text/plain": [
       "<sqlite3.Cursor at 0x103619ce0>"
      ]
     },
     "execution_count": 601,
     "metadata": {},
     "output_type": "execute_result"
    }
   ],
   "source": [
    "c.execute(\"drop table if exists Song2\")"
   ]
  },
  {
   "cell_type": "code",
   "execution_count": 25,
   "metadata": {
    "scrolled": false
   },
   "outputs": [
    {
     "data": {
      "image/png": "[encoded data removed]",
      "text/plain": [
       "<IPython.core.display.Image object>"
      ]
     },
     "execution_count": 25,
     "metadata": {},
     "output_type": "execute_result"
    }
   ],
   "source": [
    "#Database schema and relationships\n",
    "\n",
    "from IPython.display import Image\n",
    "Image(filename='/Users/husseinabualim/Downloads/SQL_test_schema.png')"
   ]
  },
  {
   "cell_type": "code",
   "execution_count": 34,
   "metadata": {},
   "outputs": [],
   "source": [
    "#Create Master Table Album\n",
    "Album = '''CREATE TABLE Album\n",
    "(\n",
    " AlbumID VARCHAR2(10) PRIMARY KEY NOT NULL UNIQUE,\n",
    " Release_date DATE,\n",
    " AlbumName VARCHAR2(8)\n",
    ");'''"
   ]
  },
  {
   "cell_type": "code",
   "execution_count": 35,
   "metadata": {},
   "outputs": [
    {
     "data": {
      "text/plain": [
       "<sqlite3.Cursor at 0x103619ce0>"
      ]
     },
     "execution_count": 35,
     "metadata": {},
     "output_type": "execute_result"
    }
   ],
   "source": [
    "#Exicut the create tbl variable\n",
    "c.execute(Album)"
   ]
  },
  {
   "cell_type": "code",
   "execution_count": 43,
   "metadata": {},
   "outputs": [],
   "source": [
    "#Create Table Album\n",
    "\n",
    "genre = '''CREATE TABLE genre\n",
    "(\n",
    " genreID VARCHAR2(10) PRIMARY KEY NOT NULL UNIQUE,\n",
    " genreName VARCHAR2(10)\n",
    ");'''"
   ]
  },
  {
   "cell_type": "code",
   "execution_count": 476,
   "metadata": {},
   "outputs": [],
   "source": [
    "#Create Table Charts\n",
    "\n",
    "Charts = '''CREATE TABLE Charts\n",
    "(\n",
    " ChartID VARCHAR2(10) PRIMARY KEY,\n",
    " ChartName VARCHAR2(20),\n",
    " SongID VARCHAR2(10),\n",
    " ChartRank Number(10),\n",
    " ChartDate Date,\n",
    " Country VarChar2(20),\n",
    " FOREIGN KEY (SongID) REFERENCES Song(SongID)\n",
    ");'''"
   ]
  },
  {
   "cell_type": "code",
   "execution_count": 477,
   "metadata": {},
   "outputs": [
    {
     "data": {
      "text/plain": [
       "<sqlite3.Cursor at 0x103619ce0>"
      ]
     },
     "execution_count": 477,
     "metadata": {},
     "output_type": "execute_result"
    }
   ],
   "source": [
    "#Exicut the create tbl variable\n",
    "c.execute(Charts)"
   ]
  },
  {
   "cell_type": "code",
   "execution_count": 66,
   "metadata": {},
   "outputs": [],
   "source": [
    "#Create Table Song\n",
    "\n",
    "Song = '''CREATE TABLE Song\n",
    "(\n",
    " SongID VARCHAR2(10) PRIMARY KEY NOT NULL UNIQUE,\n",
    " SongName VARCHAR2(20),\n",
    " Duration Number(10), \n",
    " genreID VARCHAR2(10),\n",
    " FOREIGN KEY (genreID) REFERENCES genre(genreID)\n",
    ");'''"
   ]
  },
  {
   "cell_type": "code",
   "execution_count": 67,
   "metadata": {},
   "outputs": [
    {
     "data": {
      "text/plain": [
       "<sqlite3.Cursor at 0x103619ce0>"
      ]
     },
     "execution_count": 67,
     "metadata": {},
     "output_type": "execute_result"
    }
   ],
   "source": [
    "#Exicut the create tbl variable\n",
    "c.execute(Song)"
   ]
  },
  {
   "cell_type": "code",
   "execution_count": 222,
   "metadata": {},
   "outputs": [],
   "source": [
    "#Create Table Song_Album\n",
    "\n",
    "Song_Album = '''CREATE TABLE Song_Album\n",
    "(\n",
    " AlbumID Number(10),\n",
    " SongID VARCHAR2(10),\n",
    " ArtistID VARCHAR2(10),\n",
    " FOREIGN KEY (AlbumID) REFERENCES Album(AlbumID),\n",
    " FOREIGN KEY (SongID) REFERENCES Song(SongID),\n",
    " FOREIGN KEY (ArtistID) REFERENCES Artist(ArtistID)\n",
    ");'''"
   ]
  },
  {
   "cell_type": "code",
   "execution_count": 370,
   "metadata": {},
   "outputs": [],
   "source": [
    "#Exicut the create tbl variable\n",
    "c.execute(Song_Album)"
   ]
  },
  {
   "cell_type": "code",
   "execution_count": 339,
   "metadata": {},
   "outputs": [],
   "source": [
    "#Create Table Artist\n",
    "\n",
    "Artist = '''CREATE TABLE Artist\n",
    "(\n",
    " ArtistID VARCHAR2(10) PRIMARY KEY NOT NULL UNIQUE,\n",
    " ArtistName VARCHAR2(20),\n",
    " Birthday DATE,\n",
    " Country VARCHAR2(20)\n",
    ");'''"
   ]
  },
  {
   "cell_type": "code",
   "execution_count": 340,
   "metadata": {},
   "outputs": [
    {
     "data": {
      "text/plain": [
       "<sqlite3.Cursor at 0x103619ce0>"
      ]
     },
     "execution_count": 340,
     "metadata": {},
     "output_type": "execute_result"
    }
   ],
   "source": [
    "#Exicut the create tbl variable\n",
    "c.execute(Artist)"
   ]
  },
  {
   "cell_type": "markdown",
   "metadata": {},
   "source": [
    "genre -> Song -> Charts -> Artist -> SongAlbum"
   ]
  },
  {
   "cell_type": "code",
   "execution_count": 73,
   "metadata": {},
   "outputs": [],
   "source": [
    "#\"INSERT INTO genre(genreID, genreName) VALUES(1, 'Rock');\""
   ]
  },
  {
   "cell_type": "code",
   "execution_count": 76,
   "metadata": {},
   "outputs": [
    {
     "name": "stdout",
     "output_type": "stream",
     "text": [
      "<sqlite3.Cursor object at 0x103619ce0>\n"
     ]
    }
   ],
   "source": [
    "c.execute(\"INSERT INTO genre(genreID, genreName) VALUES(1, 'Rock');\")"
   ]
  },
  {
   "cell_type": "code",
   "execution_count": 88,
   "metadata": {},
   "outputs": [],
   "source": [
    "#genres list\n",
    "genres = ((\"Love\", 2), (\"Blues\", 3), (\"Jazz\", 4), (\"Techno\", 5),(\"Alternative Rock\", 6),(\"Metal Rock\", 7),(\"Hard Rock\", 8),(\"Rock-n-Roll\", 9))"
   ]
  },
  {
   "cell_type": "code",
   "execution_count": 92,
   "metadata": {},
   "outputs": [
    {
     "data": {
      "text/plain": [
       "<sqlite3.Cursor at 0x103619ce0>"
      ]
     },
     "execution_count": 92,
     "metadata": {},
     "output_type": "execute_result"
    }
   ],
   "source": [
    "#Insert many into genre table\n",
    "c.executemany('INSERT INTO genre (genreName, genreID) VALUES (?, ?)', genres)"
   ]
  },
  {
   "cell_type": "code",
   "execution_count": 93,
   "metadata": {},
   "outputs": [],
   "source": [
    "#Define fetch function to make querying the tables easier\n",
    "\n",
    "def Query_All_Table(c, table):\n",
    "    c.execute(\"SELECT * FROM\"+' '+str(table))\n",
    "\n",
    "    rows = c.fetchall()\n",
    "\n",
    "    for row in rows:\n",
    "        print(row)"
   ]
  },
  {
   "cell_type": "code",
   "execution_count": 94,
   "metadata": {},
   "outputs": [
    {
     "name": "stdout",
     "output_type": "stream",
     "text": [
      "('1', 'Rock')\n",
      "('2', 'Love')\n",
      "('3', 'Blues')\n",
      "('4', 'Jazz')\n",
      "('5', 'Techno')\n",
      "('6', 'Alternative Rock')\n",
      "('7', 'Metal Rock')\n",
      "('8', 'Hard Rock')\n",
      "('9', 'Rock-n-Roll')\n"
     ]
    }
   ],
   "source": [
    "Query_Table(c,'genre')"
   ]
  },
  {
   "cell_type": "code",
   "execution_count": 95,
   "metadata": {},
   "outputs": [],
   "source": [
    "#Song Table\n",
    "Song = ((111,\"kill\", 3,1), (222,\"Love me\", 4, 2), (333, \"by myself\", 3,1), (444, \"Anna\", 2,3), (555, \"We are the champions\", 5,1), \n",
    "          (666, \"Enter into Hell\", 6,1), (777, \"No woman No cry\", 2,2), (888, \"Cry Me A river\", 3,3), \n",
    "          (999, \"Dance to the Rythem\", 4,5))\n",
    "\n",
    "Song2 = ((112,\"Away from the Sun\", 5,6), (221,\"Breath\", 4, 7), (331, \"Deep\", 3,8), (441, \"Shake it\", 2,9))\n",
    "Song3 = ((113,\"Sun Shine\", 2,6), (223,\"Breath unto you\", 5, 7), (334, \"Death\", 3,8), (445, \"bottoms up\", 3,9))\n",
    "Song4 = ((551,\"Aicha\", 4,2), (661,\"Je Taime\", 4, 2), (771, \"La Mer\", 3,10), (881, \"Papaoutai\", 2,10))\n"
   ]
  },
  {
   "cell_type": "code",
   "execution_count": 375,
   "metadata": {},
   "outputs": [
    {
     "data": {
      "text/plain": [
       "<sqlite3.Cursor at 0x103619ce0>"
      ]
     },
     "execution_count": 375,
     "metadata": {},
     "output_type": "execute_result"
    }
   ],
   "source": [
    "#Insert many into song table\n",
    "c.executemany('INSERT INTO Song (SongID, SongName,Duration,genreID) VALUES (?,?,?,?)', Song)"
   ]
  },
  {
   "cell_type": "code",
   "execution_count": 439,
   "metadata": {},
   "outputs": [
    {
     "name": "stdout",
     "output_type": "stream",
     "text": [
      "('111', 'kill', 3, '1')\n",
      "('222', 'Love me', 4, '2')\n",
      "('333', 'by myself', 3, '1')\n",
      "('444', 'Anna', 2, '3')\n",
      "('555', 'We are the champions', 5, '1')\n",
      "('666', 'Enter into Hell', 6, '1')\n",
      "('777', 'No woman No cry', 2, '2')\n",
      "('888', 'Cry Me A river', 3, '3')\n",
      "('999', 'Dance to the Rythem', 4, '5')\n",
      "('112', 'Away from the Sun', 5, '6')\n",
      "('221', 'Breath', 4, '7')\n",
      "('331', 'Deep', 3, '8')\n",
      "('441', 'Shake it', 2, '9')\n",
      "('113', 'Sun Shine', 2, '6')\n",
      "('223', 'Breath unto you', 5, '7')\n",
      "('334', 'Death', 3, '8')\n",
      "('445', 'bottoms up', 3, '9')\n",
      "('551', 'Aicha', 4, '2')\n",
      "('661', 'Je Taime', 4, '2')\n",
      "('771', 'La Mer', 3, '10')\n",
      "('881', 'Papaoutai', 2, '10')\n",
      "('991', 'Allez Le Bleu', 4, '10')\n"
     ]
    }
   ],
   "source": [
    "Query_Table(c,'Song')"
   ]
  },
  {
   "cell_type": "code",
   "execution_count": 119,
   "metadata": {},
   "outputs": [
    {
     "name": "stdout",
     "output_type": "stream",
     "text": [
      "('111', 'kill', 3, '1', '1', 'Rock')\n",
      "('222', 'Love me', 4, '2', '2', 'Love')\n",
      "('333', 'by myself', 3, '1', '1', 'Rock')\n",
      "('444', 'Anna', 2, '3', '3', 'Blues')\n",
      "('555', 'We are the champions', 5, '1', '1', 'Rock')\n",
      "('666', 'Enter into Hell', 6, '1', '1', 'Rock')\n",
      "('777', 'No woman No cry', 2, '2', '2', 'Love')\n",
      "('888', 'Cry Me A river', 3, '3', '3', 'Blues')\n",
      "('999', 'Dance to the Rythem', 4, '5', '5', 'Techno')\n",
      "('112', 'Away from the Sun', 5, '6', '6', 'Alternative Rock')\n",
      "('221', 'Breath', 4, '7', '7', 'Metal Rock')\n",
      "('331', 'Deep', 3, '8', '8', 'Hard Rock')\n",
      "('441', 'Shake it', 2, '9', '9', 'Rock-n-Roll')\n",
      "('113', 'Sun Shine', 2, '6', '6', 'Alternative Rock')\n",
      "('223', 'Breath unto you', 5, '7', '7', 'Metal Rock')\n",
      "('334', 'Death', 3, '8', '8', 'Hard Rock')\n",
      "('445', 'bottoms up', 3, '9', '9', 'Rock-n-Roll')\n"
     ]
    }
   ],
   "source": [
    "#Test Query\n",
    "\n",
    "c.execute(\"SELECT * FROM Song S inner join genre G on S.genreID = G.genreID\")\n",
    "\n",
    "rows = c.fetchall()\n",
    "\n",
    "for row in rows:\n",
    "    print(row)"
   ]
  },
  {
   "cell_type": "code",
   "execution_count": 120,
   "metadata": {},
   "outputs": [
    {
     "name": "stdout",
     "output_type": "stream",
     "text": [
      "('111', 'kill', 3, '1', '1', 'Rock')\n",
      "('333', 'by myself', 3, '1', '1', 'Rock')\n",
      "('555', 'We are the champions', 5, '1', '1', 'Rock')\n",
      "('666', 'Enter into Hell', 6, '1', '1', 'Rock')\n",
      "('112', 'Away from the Sun', 5, '6', '6', 'Alternative Rock')\n",
      "('221', 'Breath', 4, '7', '7', 'Metal Rock')\n",
      "('331', 'Deep', 3, '8', '8', 'Hard Rock')\n",
      "('441', 'Shake it', 2, '9', '9', 'Rock-n-Roll')\n",
      "('113', 'Sun Shine', 2, '6', '6', 'Alternative Rock')\n",
      "('223', 'Breath unto you', 5, '7', '7', 'Metal Rock')\n",
      "('334', 'Death', 3, '8', '8', 'Hard Rock')\n",
      "('445', 'bottoms up', 3, '9', '9', 'Rock-n-Roll')\n"
     ]
    }
   ],
   "source": [
    "#Test Query\n",
    "c.execute(\"SELECT * FROM Song S inner join genre G on S.genreID = G.genreID where G.genreName like '%Rock%'\")\n",
    "\n",
    "rows = c.fetchall()\n",
    "\n",
    "for row in rows:\n",
    "    print(row)"
   ]
  },
  {
   "cell_type": "code",
   "execution_count": 236,
   "metadata": {},
   "outputs": [
    {
     "name": "stdout",
     "output_type": "stream",
     "text": [
      "('kill', 'Rock')\n",
      "('by myself', 'Rock')\n",
      "('We are the champions', 'Rock')\n",
      "('Enter into Hell', 'Rock')\n",
      "('Away from the Sun', 'Alternative Rock')\n",
      "('Breath', 'Metal Rock')\n",
      "('Deep', 'Hard Rock')\n",
      "('Shake it', 'Rock-n-Roll')\n",
      "('Sun Shine', 'Alternative Rock')\n",
      "('Breath unto you', 'Metal Rock')\n",
      "('Death', 'Hard Rock')\n",
      "('bottoms up', 'Rock-n-Roll')\n"
     ]
    }
   ],
   "source": [
    "#Test Nested Query\n",
    "\n",
    "c.execute(\"SELECT SongName, genreName FROM (SELECT * FROM Song S inner join genre G on S.genreID = G.genreID where G.genreName like '%Rock%')\")\n",
    "\n",
    "rows = c.fetchall()\n",
    "\n",
    "for row in rows:\n",
    "    print(row)"
   ]
  },
  {
   "cell_type": "code",
   "execution_count": 226,
   "metadata": {},
   "outputs": [],
   "source": [
    "#Song_Album Table insert2\n",
    "\n",
    "Song_Album = ((1111,222, 200), (2222, 333, 300), \n",
    "             (3333,444, 400), (4444, 555, 500), (555, 888, 800)\n",
    "             ,(6666, 112, 110), (7777, 221, 120), (8888, 331, 130), \n",
    "             (9999, 441, 140))\n",
    "\n",
    "Song_Album2 = ((1112,551, 190), (2221,661 , 200), \n",
    "             (3331,771, 201), (4441, 881, 202))"
   ]
  },
  {
   "cell_type": "code",
   "execution_count": 229,
   "metadata": {},
   "outputs": [
    {
     "data": {
      "text/plain": [
       "<sqlite3.Cursor at 0x103619ce0>"
      ]
     },
     "execution_count": 229,
     "metadata": {},
     "output_type": "execute_result"
    }
   ],
   "source": [
    "c.execute('INSERT INTO Song_Album (AlbumID, SongID, ArtistID) VALUES(Null,111, 100)')\n",
    "c.execute('INSERT INTO Song_Album (AlbumID, SongID, ArtistID) VALUES(Null,666 , 600)')\n",
    "c.execute('INSERT INTO Song_Album (AlbumID, SongID, ArtistID) VALUES(Null, 999, 900)')\n",
    "c.execute('INSERT INTO Song_Album (AlbumID, SongID, ArtistID) VALUES(Null,777 , 700)')\n",
    "c.execute('INSERT INTO Song_Album (AlbumID, SongID, ArtistID) VALUES(Null,113 , 150)')\n",
    "c.execute('INSERT INTO Song_Album (AlbumID, SongID, ArtistID) VALUES(Null,223 , 160)')\n",
    "c.execute('INSERT INTO Song_Album (AlbumID, SongID, ArtistID) VALUES(Null, 334, 170)')\n",
    "c.execute('INSERT INTO Song_Album (AlbumID, SongID, ArtistID) VALUES(Null, 445, 180)')\n",
    "c.execute('INSERT INTO Song_Album (AlbumID, SongID, ArtistID) VALUES(Null, 991, 204)')"
   ]
  },
  {
   "cell_type": "code",
   "execution_count": 371,
   "metadata": {},
   "outputs": [
    {
     "data": {
      "text/plain": [
       "<sqlite3.Cursor at 0x103619ce0>"
      ]
     },
     "execution_count": 371,
     "metadata": {},
     "output_type": "execute_result"
    }
   ],
   "source": [
    "#Insert many into Song_Album table\n",
    "\n",
    "c.executemany('INSERT INTO Song_Album (AlbumID, SongID, ArtistID) VALUES (?,?,?)', Song_Album2)"
   ]
  },
  {
   "cell_type": "code",
   "execution_count": 433,
   "metadata": {},
   "outputs": [
    {
     "name": "stdout",
     "output_type": "stream",
     "text": [
      "(1111, '222', '200')\n",
      "(2222, '333', '300')\n",
      "(3333, '444', '400')\n",
      "(4444, '555', '500')\n",
      "(555, '888', '800')\n",
      "(6666, '112', '110')\n",
      "(7777, '221', '120')\n",
      "(8888, '331', '130')\n",
      "(9999, '441', '140')\n",
      "(None, '111', '100')\n",
      "(None, '666', '600')\n",
      "(None, '999', '900')\n",
      "(None, '777', '700')\n",
      "(None, '113', '150')\n",
      "(None, '223', '160')\n",
      "(None, '334', '170')\n",
      "(None, '445', '180')\n",
      "(1112, '551', '190')\n",
      "(2221, '661', '200')\n",
      "(3331, '771', '201')\n",
      "(4441, '881', '202')\n"
     ]
    }
   ],
   "source": [
    "Query_Table(c,'Song_Album')"
   ]
  },
  {
   "cell_type": "code",
   "execution_count": 341,
   "metadata": {},
   "outputs": [],
   "source": [
    "#Artist Table insert2\n",
    "\n",
    "Artist = ((100,'Metalica','1964-07-04', 'United States'), (200,'Bob Marley' ,'1964-05-06' ,'Jamaica'), \n",
    "             (300,'Linkin Park', '1983-07-08','Canada'), (400,'Basta' ,'1972-07-07' ,'Russia'), (500,'Robbie Williams' ,'1966-06-06', 'United Kingdom')\n",
    "             ,(600,'SlipKnot' ,'1981-01-01', 'United States'), (700, 'Bob Marley', '1964-05-06','Jamaica'), (800,'Madonna' , '1964-03-04','Israel'), \n",
    "             (900, 'Electric', '1973-08-08','Germany') ,(110,'Three Doors Down' ,'1982-06-05', 'United States'),(120,'Evenessence' ,'1992-03-03', 'France') \n",
    "             ,(130,'Zest' ,'1990-05-09', 'Poland'),(140,'Lid Zeplin' ,'1950-01-01', 'Neatherlands'),(150,'Creed' ,'1978-01-01', 'United Kingdom')\n",
    "             ,(160,'Gunz&Roses' ,'1970-04-01', 'United States'),(170,'Plague' ,'2000-05-01', 'Belguim'),(180,'Nickleback' ,'1991-09-11', 'United States') \n",
    "         )\n",
    "\n",
    "Artist2 = ((190,'Chab Khalid','1964-01-01', 'France'), (201,'Lara fabian' ,'1972-02-02' ,'France'), \n",
    "             (202,'Peter', '1981-01-01','France'), (203,'Ariel' ,'1975-01-01' ,'France'), (204,'Zidane' ,'1972-01-01' ,'France'))"
   ]
  },
  {
   "cell_type": "code",
   "execution_count": 379,
   "metadata": {},
   "outputs": [
    {
     "data": {
      "text/plain": [
       "<sqlite3.Cursor at 0x103619ce0>"
      ]
     },
     "execution_count": 379,
     "metadata": {},
     "output_type": "execute_result"
    }
   ],
   "source": [
    "#Insert many into Artist table\n",
    "\n",
    "c.executemany('INSERT INTO Artist (ArtistID, ArtistName, Birthday,Country) VALUES (?,?,?,?)', Artist2)"
   ]
  },
  {
   "cell_type": "code",
   "execution_count": 470,
   "metadata": {},
   "outputs": [
    {
     "name": "stdout",
     "output_type": "stream",
     "text": [
      "('100', 'Metalica', '1964-07-04', 'United States')\n",
      "('200', 'Bob Marley', '1964-05-06', 'Jamaica')\n",
      "('300', 'Linkin Park', '1983-07-08', 'Canada')\n",
      "('400', 'Basta', '1972-07-07', 'Russia')\n",
      "('500', 'Robbie Williams', '1966-06-06', 'United Kingdom')\n",
      "('600', 'SlipKnot', '1981-01-01', 'United States')\n",
      "('700', 'Bob Marley', '1964-05-06', 'Jamaica')\n",
      "('800', 'Madonna', '1964-03-04', 'Israel')\n",
      "('900', 'Electric', '1973-08-08', 'Germany')\n",
      "('110', 'Three Doors Down', '1982-06-05', 'United States')\n",
      "('120', 'Evenessence', '1992-03-03', 'France')\n",
      "('130', 'Zest', '1990-05-09', 'Poland')\n",
      "('140', 'Lid Zeplin', '1950-01-01', 'Neatherlands')\n",
      "('150', 'Creed', '1978-01-01', 'United Kingdom')\n",
      "('160', 'Gunz&Roses', '1970-04-01', 'United States')\n",
      "('170', 'Plague', '2000-05-01', 'Belguim')\n",
      "('180', 'Nickleback', '1991-09-11', 'United States')\n",
      "('190', 'Chab Khalid', '1964-01-01', 'France')\n",
      "('201', 'Lara fabian', '1972-02-02', 'France')\n",
      "('202', 'Peter', '1981-01-01', 'France')\n",
      "('203', 'Ariel', '1975-01-01', 'France')\n",
      "('204', 'Zidane', '1972-01-01', 'France')\n"
     ]
    }
   ],
   "source": [
    "Query_Table(c,'Artist')"
   ]
  },
  {
   "cell_type": "code",
   "execution_count": 448,
   "metadata": {},
   "outputs": [],
   "source": [
    "Album = ((1111,'2020-07-07', 'Mix2020'),(2222,'2020-06-04', 'Hit2020'), (3333,'2020-08-01', 'Best2020')  , (4444,'2018-05-04', 'Hit2018') , (5555, '2017-06-04', 'AllMix17'), (6666, '1990-03-08', 'hit90s'))"
   ]
  },
  {
   "cell_type": "code",
   "execution_count": 449,
   "metadata": {},
   "outputs": [
    {
     "data": {
      "text/plain": [
       "<sqlite3.Cursor at 0x103619ce0>"
      ]
     },
     "execution_count": 449,
     "metadata": {},
     "output_type": "execute_result"
    }
   ],
   "source": [
    "#Insert many into song table\n",
    "\n",
    "c.executemany('INSERT INTO Album (AlbumID, Release_date, AlbumName) VALUES (?,?,?)', Album)"
   ]
  },
  {
   "cell_type": "code",
   "execution_count": 450,
   "metadata": {},
   "outputs": [
    {
     "name": "stdout",
     "output_type": "stream",
     "text": [
      "('1111', '2020-07-07', 'Mix2020')\n",
      "('2222', '2020-06-04', 'Hit2020')\n",
      "('3333', '2020-08-01', 'Best2020')\n",
      "('4444', '2018-05-04', 'Hit2018')\n",
      "('5555', '2017-06-04', 'AllMix17')\n",
      "('6666', '1990-03-08', 'hit90s')\n"
     ]
    }
   ],
   "source": [
    "Query_Table(c,'Album')"
   ]
  },
  {
   "cell_type": "code",
   "execution_count": 556,
   "metadata": {},
   "outputs": [],
   "source": [
    "#Charts = ((11111,\"MTV\", 333, 1, \"2000-01-01\", \"United States\"), (22222,\"Bollywood\", 333, 1, \"2000-01-20\", \"India\"), \n",
    "             #(33333,\"GermanBest\", 333, 1, \"2000-01-15\", \"Germany\" ), (44444,\"CanadaBest\", 333, 1, \"2000-01-15\", \"Canada\") , (55555,\"US_Top\", 333, 1, \"2000-01-8\", \"United States\" ), (66666,\"HollywoodTop\", 333, 1, \"2000-01-10\", \"United States\"), (77777,\"ParisBest\", 333, 1, \"2000-01-27\", \"France\" ))\n",
    "\n",
    "#Charts2 = ((11111,\"MTV\", 333, 1, \"2000-01-01\", \"United States\"), (22222,\"Bollywood\", 333, 1, \"2000-01-20\", \"India\"), \n",
    "             #(33333,\"GermanBest\", 333, 1, \"2000-01-15\", \"Germany\" ), (44444,\"CanadaBest\", 333, 1, \"2000-01-15\", \"Canada\") , (55555,\"US_Top\", 333, 1, \"2000-01-8\", \"United States\" ), (66666,\"HollywoodTop\", 333, 1, \"2000-01-10\", \"United States\"), (77777,\"ParisBest\", 333, 1, \"2000-01-27\", \"France\" ))\n",
    "    \n",
    "#Charts3 = ((88888,\"MTV_VIP\", 333, 4, \"2000-01-13\", \"United States\"), (99999,\"BollywoodVIP\", 333, 3, \"2000-01-14\", \"India\"), \n",
    "             #(11112,\"GermanVIP\", 333, 2, \"2000-01-09\", \"Germany\" ), (22221,\"CanadaVIP\", 333, 2, \"2000-01-16\", \"Canada\") , (33331,\"US_Hot\", 333, 3, \"2000-01-8\", \"United States\" ), (55551,\"HollywoodVIP\", 333, 4, \"2000-01-118\", \"United States\"), (66661,\"ParisVIP\", 333, 3, \"2000-01-24\", \"France\" ))\n",
    "    \n",
    "Charts4 = ((77771,\"MTV_EuR\", 333, 1, \"2000-02-13\", \"United States\"), (88881,\"BollywoodEUR\", 333, 3, \"2000-02-14\", \"India\"), \n",
    "           (99991,\"GermanEuR\", 333, 2, \"2000-02-09\", \"Germany\" ), (12121,\"CanadaEuR\", 333, 2, \"2000-02-16\", \"Canada\") , (32323,\"US_EuR\", 333, 3, \"2000-02-8\", \"United States\" ), (42424,\"HollywoodEur\", 333, 4, \"2000-02-118\", \"United States\"), (62626,\"ParisEur\", 333, 3, \"2000-02-24\", \"France\" ))"
   ]
  },
  {
   "cell_type": "code",
   "execution_count": 557,
   "metadata": {},
   "outputs": [
    {
     "data": {
      "text/plain": [
       "<sqlite3.Cursor at 0x103619ce0>"
      ]
     },
     "execution_count": 557,
     "metadata": {},
     "output_type": "execute_result"
    }
   ],
   "source": [
    "c.executemany('INSERT INTO Charts (ChartID, ChartName, SongID,ChartRank, ChartDate, Country) VALUES (?,?,?,?,?,?)', Charts4)"
   ]
  },
  {
   "cell_type": "code",
   "execution_count": 558,
   "metadata": {},
   "outputs": [
    {
     "name": "stdout",
     "output_type": "stream",
     "text": [
      "('11111', 'MTV', '333', 1, '2000-01-01', 'United States')\n",
      "('22222', 'Bollywood', '333', 1, '2000-01-20', 'India')\n",
      "('33333', 'GermanBest', '333', 1, '2000-01-15', 'Germany')\n",
      "('44444', 'CanadaBest', '333', 1, '2000-01-15', 'Canada')\n",
      "('55555', 'US_Top', '333', 1, '2000-01-08', 'United States')\n",
      "('66666', 'HollywoodTop', '333', 1, '2000-01-10', 'United States')\n",
      "('77777', 'ParisBest', '333', 1, '2000-01-27', 'France')\n",
      "('88888', 'MTV_VIP', '333', 4, '2000-01-13', 'United States')\n",
      "('99999', 'BollywoodVIP', '333', 3, '2000-01-14', 'India')\n",
      "('11112', 'GermanVIP', '333', 2, '2000-01-09', 'Germany')\n",
      "('22221', 'CanadaVIP', '333', 2, '2000-01-16', 'Canada')\n",
      "('33331', 'US_Hot', '333', 3, '2000-01-8', 'United States')\n",
      "('55551', 'HollywoodVIP', '333', 4, '2000-01-118', 'United States')\n",
      "('66661', 'ParisVIP', '333', 3, '2000-01-24', 'France')\n",
      "('77771', 'MTV_EuR', '333', 1, '2000-02-13', 'United States')\n",
      "('88881', 'BollywoodEUR', '333', 3, '2000-02-14', 'India')\n",
      "('99991', 'GermanEuR', '333', 2, '2000-02-09', 'Germany')\n",
      "('12121', 'CanadaEuR', '333', 2, '2000-02-16', 'Canada')\n",
      "('32323', 'US_EuR', '333', 3, '2000-02-8', 'United States')\n",
      "('42424', 'HollywoodEur', '333', 4, '2000-02-118', 'United States')\n",
      "('62626', 'ParisEur', '333', 3, '2000-02-24', 'France')\n"
     ]
    }
   ],
   "source": [
    "Query_Table(c,'Charts')"
   ]
  },
  {
   "cell_type": "code",
   "execution_count": 444,
   "metadata": {},
   "outputs": [],
   "source": [
    "#Answers"
   ]
  },
  {
   "cell_type": "markdown",
   "metadata": {},
   "source": [
    "Find all songs with genre \"Rock\" (Rock-n-Roll, Alternative rock, Hard rock, Metal Rock) not included in any album. Display result: ArtistName, SongName, Genre."
   ]
  },
  {
   "cell_type": "code",
   "execution_count": 344,
   "metadata": {},
   "outputs": [
    {
     "name": "stdout",
     "output_type": "stream",
     "text": [
      "('Metalica', 'kill', 'Rock')\n",
      "('SlipKnot', 'Enter into Hell', 'Rock')\n",
      "('Creed', 'Sun Shine', 'Alternative Rock')\n",
      "('Gunz&Roses', 'Breath unto you', 'Metal Rock')\n",
      "('Plague', 'Death', 'Hard Rock')\n",
      "('Nickleback', 'bottoms up', 'Rock-n-Roll')\n"
     ]
    }
   ],
   "source": [
    "c.execute(\"select a.ArtistName, SG.SongName, SG.genreName from (SELECT * FROM Song_Album SA inner join Song S on SA.SongID = S.SongID inner join genre G on S.genreID = G.genreID where G.genreName like '%Rock%' and SA.AlbumID is Null) as SG inner join Artist a on SG.ArtistID = a.ArtistID\")\n",
    "\n",
    "rows = c.fetchall()\n",
    "\n",
    "for row in rows:\n",
    "    print(row)"
   ]
  },
  {
   "cell_type": "markdown",
   "metadata": {},
   "source": [
    "Find the longest song by artists from France.If there are several such songs, display only the song of the youngest artist. Display result: artist name, song title, song duration."
   ]
  },
  {
   "cell_type": "code",
   "execution_count": 441,
   "metadata": {},
   "outputs": [
    {
     "name": "stdout",
     "output_type": "stream",
     "text": [
      "('Evenessence', 28, 4)\n",
      "('Chab Khalid', 56, 4)\n",
      "('Lara fabian', 48, 3)\n",
      "('Peter', 39, 2)\n",
      "('Zidane', 48, 4)\n"
     ]
    }
   ],
   "source": [
    "c.execute(\"select fr.ArtistName, fr.age, fr.duration from (select a.ArtistName, SG.SongName, a.Country, (date() - a.Birthday) as age, SG.duration from (SELECT * FROM Song_Album SA inner join Song S on SA.SongID = S.SongID) as SG inner join Artist a on SG.ArtistID = a.ArtistID where a.Country is 'France') as fr\" )\n",
    "\n",
    "rows = c.fetchall()\n",
    "\n",
    "for row in rows:\n",
    "    print(row)"
   ]
  },
  {
   "cell_type": "code",
   "execution_count": 440,
   "metadata": {},
   "outputs": [
    {
     "name": "stdout",
     "output_type": "stream",
     "text": [
      "('Evenessence', 'Breath', 4)\n"
     ]
    }
   ],
   "source": [
    "c.execute(\"With tbl AS (select fr.ArtistName, fr.SongName, fr.age, fr.duration from (select a.ArtistName, SG.SongName, a.Country, (date() - a.Birthday) as age, SG.duration from (SELECT * FROM Song_Album SA inner join Song S on SA.SongID = S.SongID) as SG inner join Artist a on SG.ArtistID = a.ArtistID where a.Country is 'France') as fr) select ArtistName, SongName, duration from tbl group by ArtistName having duration = (select max(duration) from tbl) and age = (select min(age) from tbl)\")\n",
    "\n",
    "rows = c.fetchall()\n",
    "\n",
    "for row in rows:\n",
    "    print(row)"
   ]
  },
  {
   "cell_type": "markdown",
   "metadata": {},
   "source": [
    "Find all albums are released for last 3 months. Display result: AlbumName, ArtistName, Count of Songs, Album duration.\n"
   ]
  },
  {
   "cell_type": "code",
   "execution_count": 483,
   "metadata": {},
   "outputs": [
    {
     "name": "stdout",
     "output_type": "stream",
     "text": [
      "('1111', '2020-07-07', 'Mix2020')\n",
      "('2222', '2020-06-04', 'Hit2020')\n",
      "('3333', '2020-08-01', 'Best2020')\n"
     ]
    }
   ],
   "source": [
    "c.execute(\"Select * from Album where Release_date >=date('now', '-90 days')\")\n",
    "\n",
    "rows = c.fetchall()\n",
    "\n",
    "for row in rows:\n",
    "    print(row)"
   ]
  },
  {
   "cell_type": "markdown",
   "metadata": {},
   "source": [
    "Find all artists which more than 3 times place in TOP-5 chart in foreign country in one month. display result: Artist Name, artist country, month, top result in chart."
   ]
  },
  {
   "cell_type": "code",
   "execution_count": 587,
   "metadata": {},
   "outputs": [
    {
     "name": "stdout",
     "output_type": "stream",
     "text": [
      "('Linkin Park', 'Canada', '01', 1)\n",
      "('Linkin Park', 'Canada', '02', 1)\n"
     ]
    }
   ],
   "source": [
    "c.execute(\"With tbl AS (SELECT a.ArtistName, a.ArtistID, a.Country as artist_country, C.Country as chart_country, C.ChartRank, C.ChartDate, strftime('%m', ChartDate) as chart_month, strftime('%Y', ChartDate) as chart_year FROM Artist a inner join Song_Album SA on a.ArtistID = SA.ArtistID inner join Song S on SA.SongID = S.SongID inner join Charts C on S.SongID = C.SongID where a.country != C.country and C.ChartRank  between 1 and 5) select ArtistName, artist_country, chart_month, Top_Rank from (select ArtistName,artist_country,  count(ArtistID) as Num_Song, chart_month, chart_year, min(ChartRank) as Top_Rank from tbl group by chart_month, chart_year having Num_Song > 3)\")\n",
    "\n",
    "rows = c.fetchall()\n",
    "\n",
    "for row in rows:\n",
    "    print(row)"
   ]
  },
  {
   "cell_type": "markdown",
   "metadata": {},
   "source": [
    "Find all songs performed by the duet. Display result: SongName, first artist name - second artist name, album name. List the artists' names in alphabetical order. If song not included in any album, value is shown like 'undefined'"
   ]
  },
  {
   "cell_type": "code",
   "execution_count": 615,
   "metadata": {},
   "outputs": [
    {
     "name": "stdout",
     "output_type": "stream",
     "text": [
      "(1111, '222', '200')\n",
      "(2222, '333', '300')\n",
      "(3333, '444', '400')\n",
      "(4444, '555', '500')\n",
      "(555, '888', '800')\n",
      "(6666, '112', '110')\n",
      "(7777, '221', '120')\n",
      "(8888, '331', '130')\n",
      "(9999, '441', '140')\n",
      "(None, '111', '100')\n",
      "(None, '666', '600')\n",
      "(None, '999', '900')\n",
      "(None, '777', '700')\n",
      "(None, '113', '150')\n",
      "(None, '223', '160')\n",
      "(None, '334', '170')\n",
      "(None, '445', '180')\n",
      "(1112, '551', '190')\n",
      "(2221, '661', '200')\n",
      "(3331, '771', '201')\n",
      "(4441, '881', '202')\n",
      "(None, '991', '204')\n",
      "(None, '991', '205')\n",
      "(1111, '222', '206')\n"
     ]
    }
   ],
   "source": [
    "c.execute(\"select * from Song_Album\")\n",
    "\n",
    "rows = c.fetchall()\n",
    "\n",
    "for row in rows:\n",
    "    print(row)"
   ]
  },
  {
   "cell_type": "code",
   "execution_count": 641,
   "metadata": {},
   "outputs": [
    {
     "name": "stdout",
     "output_type": "stream",
     "text": [
      "('Love me', '200', '222', 2)\n",
      "('Allez Le Bleu', '204', '991', 2)\n"
     ]
    }
   ],
   "source": [
    "#SongName, first artist name - second artist name, album name.\n",
    "\n",
    "c.execute(\"select s.SongName, sg.ArtistID,  sg.SongID, count(sg.ArtistID) as cnt_ID from Artist a inner join song_album sg on a.ArtistID = sg.ArtistID inner join Song s on sg.SongID = s.SongID group by sg.SongID having cnt_ID >=2\")\n",
    "\n",
    "rows = c.fetchall()\n",
    "\n",
    "for row in rows:\n",
    "    print(row)"
   ]
  },
  {
   "cell_type": "code",
   "execution_count": 706,
   "metadata": {},
   "outputs": [
    {
     "name": "stdout",
     "output_type": "stream",
     "text": [
      "('Allez Le Bleu', 'Terry Henry')\n",
      "('Allez Le Bleu', 'Terry Henry - Zidane')\n",
      "('Love me', 'Bob Marley')\n",
      "('Love me', 'Bob Marley - Ziggy Marley')\n"
     ]
    }
   ],
   "source": [
    "c.execute(\"With tbl AS (select s.SongName, sg.ArtistID, a.ArtistName,  sg.SongID, count(sg.ArtistID) as cnt_ID from Artist a inner join song_album sg on a.ArtistID = sg.ArtistID inner join Song s on sg.SongID = s.SongID group by sg.SongID, a.ArtistID) select Distinct SongName, GROUP_CONCAT(ArtistName,' - ') over (PARTITION BY SongName ORDER BY ArtistName) as Duet from tbl where SongID in (select songID from (select songID, SongName, count(SongID) as cnt from tbl group by SongID having cnt >=2 ) group by SongName)\")\n",
    "\n",
    "rows = c.fetchall()\n",
    "\n",
    "for row in rows:\n",
    "    print(row)"
   ]
  },
  {
   "cell_type": "code",
   "execution_count": 810,
   "metadata": {},
   "outputs": [
    {
     "name": "stdout",
     "output_type": "stream",
     "text": [
      "('Love me', 'Bob Marley - Ziggy Marley', 'Mix2020')\n",
      "('Allez Le Bleu', 'Zidane - Terry Henry', 'undefined')\n"
     ]
    }
   ],
   "source": [
    "c.execute(\"With tbl AS (select s.SongName, sg.ArtistID, a.ArtistName, sg.SongID, sg.AlbumID, count(sg.ArtistID) as cnt_ID from Artist a inner join song_album sg on a.ArtistID = sg.ArtistID inner join Song s on sg.SongID = s.SongID group by sg.SongID, a.ArtistID) select Distinct SongName, GROUP_CONCAT(ArtistName,' - ') over (PARTITION BY SongName) as Duet, (Case when AlbumName is null then 'undefined' else AlbumName end) from tbl left join album ab on tbl.AlbumID = ab.AlbumID  where SongID in (select songID from (select songID, SongName, count(SongID) as cnt from tbl group by SongID having cnt >=2)) order by artistname\")\n",
    "\n",
    "rows = c.fetchall()\n",
    "\n",
    "for row in rows:\n",
    "    print(row)"
   ]
  },
  {
   "cell_type": "code",
   "execution_count": 809,
   "metadata": {},
   "outputs": [
    {
     "name": "stdout",
     "output_type": "stream",
     "text": [
      "('Allez Le Bleu', 'Terry Henry', 'undefined')\n",
      "('Allez Le Bleu', 'Terry Henry - Zidane', 'undefined')\n",
      "('Love me', 'Bob Marley', 'Mix2020')\n",
      "('Love me', 'Bob Marley - Ziggy Marley', 'Mix2020')\n"
     ]
    }
   ],
   "source": [
    "c.execute(\"With tbl AS (select s.SongName, sg.ArtistID, a.ArtistName, sg.SongID, sg.AlbumID, count(sg.ArtistID) as cnt_ID from Artist a inner join song_album sg on a.ArtistID = sg.ArtistID inner join Song s on sg.SongID = s.SongID group by sg.SongID, a.ArtistID) select Distinct SongName, GROUP_CONCAT(ArtistName,' - ') over (PARTITION BY SongName Order by artistname) as Duet, (Case when AlbumName is null then 'undefined' else AlbumName end) from tbl left join album ab on tbl.AlbumID = ab.AlbumID  where SongID in (select songID from (select songID, SongName, count(SongID) as cnt from tbl group by SongID having cnt >=2))\")\n",
    "\n",
    "rows = c.fetchall()\n",
    "\n",
    "for row in rows:\n",
    "    print(row)"
   ]
  },
  {
   "cell_type": "markdown",
   "metadata": {},
   "source": [
    "Python data analysis Decathlon vacancy exam"
   ]
  },
  {
   "cell_type": "code",
   "execution_count": 815,
   "metadata": {},
   "outputs": [],
   "source": [
    "#Python Test \n",
    "#Import some libraries\n",
    "\n",
    "import pandas as pd\n",
    "import numpy as np\n",
    "import sklearn as sk\n",
    "import keras\n"
   ]
  },
  {
   "cell_type": "code",
   "execution_count": 4,
   "metadata": {},
   "outputs": [],
   "source": [
    "#/Users/husseinabualim\n",
    "\n",
    "Pokemon_df = pd. read_csv('/Users/husseinabualim/Downloads/DS-evaluation-2020-master/pokemon.csv')\n",
    "Combats_df = pd. read_csv('/Users/husseinabualim/Downloads/DS-evaluation-2020-master/combats.csv')\n"
   ]
  },
  {
   "cell_type": "code",
   "execution_count": 855,
   "metadata": {},
   "outputs": [
    {
     "data": {
      "text/html": [
       "<div>\n",
       "<style scoped>\n",
       "    .dataframe tbody tr th:only-of-type {\n",
       "        vertical-align: middle;\n",
       "    }\n",
       "\n",
       "    .dataframe tbody tr th {\n",
       "        vertical-align: top;\n",
       "    }\n",
       "\n",
       "    .dataframe thead th {\n",
       "        text-align: right;\n",
       "    }\n",
       "</style>\n",
       "<table border=\"1\" class=\"dataframe\">\n",
       "  <thead>\n",
       "    <tr style=\"text-align: right;\">\n",
       "      <th></th>\n",
       "      <th>First_pokemon</th>\n",
       "      <th>Second_pokemon</th>\n",
       "      <th>Winner</th>\n",
       "    </tr>\n",
       "  </thead>\n",
       "  <tbody>\n",
       "    <tr>\n",
       "      <th>0</th>\n",
       "      <td>266</td>\n",
       "      <td>298</td>\n",
       "      <td>298</td>\n",
       "    </tr>\n",
       "    <tr>\n",
       "      <th>1</th>\n",
       "      <td>702</td>\n",
       "      <td>701</td>\n",
       "      <td>701</td>\n",
       "    </tr>\n",
       "    <tr>\n",
       "      <th>2</th>\n",
       "      <td>191</td>\n",
       "      <td>668</td>\n",
       "      <td>668</td>\n",
       "    </tr>\n",
       "    <tr>\n",
       "      <th>3</th>\n",
       "      <td>237</td>\n",
       "      <td>683</td>\n",
       "      <td>683</td>\n",
       "    </tr>\n",
       "    <tr>\n",
       "      <th>4</th>\n",
       "      <td>151</td>\n",
       "      <td>231</td>\n",
       "      <td>151</td>\n",
       "    </tr>\n",
       "  </tbody>\n",
       "</table>\n",
       "</div>"
      ],
      "text/plain": [
       "   First_pokemon  Second_pokemon  Winner\n",
       "0            266             298     298\n",
       "1            702             701     701\n",
       "2            191             668     668\n",
       "3            237             683     683\n",
       "4            151             231     151"
      ]
     },
     "execution_count": 855,
     "metadata": {},
     "output_type": "execute_result"
    }
   ],
   "source": [
    "Combats_df.head()"
   ]
  },
  {
   "cell_type": "code",
   "execution_count": 853,
   "metadata": {},
   "outputs": [
    {
     "data": {
      "text/html": [
       "<div>\n",
       "<style scoped>\n",
       "    .dataframe tbody tr th:only-of-type {\n",
       "        vertical-align: middle;\n",
       "    }\n",
       "\n",
       "    .dataframe tbody tr th {\n",
       "        vertical-align: top;\n",
       "    }\n",
       "\n",
       "    .dataframe thead th {\n",
       "        text-align: right;\n",
       "    }\n",
       "</style>\n",
       "<table border=\"1\" class=\"dataframe\">\n",
       "  <thead>\n",
       "    <tr style=\"text-align: right;\">\n",
       "      <th></th>\n",
       "      <th>pid</th>\n",
       "      <th>Name</th>\n",
       "      <th>Class 1</th>\n",
       "      <th>Class 2</th>\n",
       "      <th>HP</th>\n",
       "      <th>Attack</th>\n",
       "      <th>Defense</th>\n",
       "      <th>Sp. Atk</th>\n",
       "      <th>Sp. Def</th>\n",
       "      <th>Speed</th>\n",
       "      <th>Legendary</th>\n",
       "    </tr>\n",
       "  </thead>\n",
       "  <tbody>\n",
       "    <tr>\n",
       "      <th>0</th>\n",
       "      <td>1</td>\n",
       "      <td>Bulbasaur</td>\n",
       "      <td>Grass</td>\n",
       "      <td>Poison</td>\n",
       "      <td>45</td>\n",
       "      <td>49</td>\n",
       "      <td>49</td>\n",
       "      <td>65</td>\n",
       "      <td>65</td>\n",
       "      <td>45</td>\n",
       "      <td>False</td>\n",
       "    </tr>\n",
       "    <tr>\n",
       "      <th>1</th>\n",
       "      <td>2</td>\n",
       "      <td>Ivysaur</td>\n",
       "      <td>Grass</td>\n",
       "      <td>Poison</td>\n",
       "      <td>60</td>\n",
       "      <td>62</td>\n",
       "      <td>63</td>\n",
       "      <td>80</td>\n",
       "      <td>80</td>\n",
       "      <td>60</td>\n",
       "      <td>False</td>\n",
       "    </tr>\n",
       "    <tr>\n",
       "      <th>2</th>\n",
       "      <td>3</td>\n",
       "      <td>Venusaur</td>\n",
       "      <td>Grass</td>\n",
       "      <td>Poison</td>\n",
       "      <td>80</td>\n",
       "      <td>82</td>\n",
       "      <td>83</td>\n",
       "      <td>100</td>\n",
       "      <td>100</td>\n",
       "      <td>80</td>\n",
       "      <td>False</td>\n",
       "    </tr>\n",
       "    <tr>\n",
       "      <th>3</th>\n",
       "      <td>4</td>\n",
       "      <td>Mega Venusaur</td>\n",
       "      <td>Grass</td>\n",
       "      <td>Poison</td>\n",
       "      <td>80</td>\n",
       "      <td>100</td>\n",
       "      <td>123</td>\n",
       "      <td>122</td>\n",
       "      <td>120</td>\n",
       "      <td>80</td>\n",
       "      <td>False</td>\n",
       "    </tr>\n",
       "    <tr>\n",
       "      <th>4</th>\n",
       "      <td>5</td>\n",
       "      <td>Charmander</td>\n",
       "      <td>Fire</td>\n",
       "      <td>NaN</td>\n",
       "      <td>39</td>\n",
       "      <td>52</td>\n",
       "      <td>43</td>\n",
       "      <td>60</td>\n",
       "      <td>50</td>\n",
       "      <td>65</td>\n",
       "      <td>False</td>\n",
       "    </tr>\n",
       "  </tbody>\n",
       "</table>\n",
       "</div>"
      ],
      "text/plain": [
       "   pid           Name Class 1 Class 2  HP  Attack  Defense  Sp. Atk  Sp. Def  \\\n",
       "0    1      Bulbasaur   Grass  Poison  45      49       49       65       65   \n",
       "1    2        Ivysaur   Grass  Poison  60      62       63       80       80   \n",
       "2    3       Venusaur   Grass  Poison  80      82       83      100      100   \n",
       "3    4  Mega Venusaur   Grass  Poison  80     100      123      122      120   \n",
       "4    5     Charmander    Fire     NaN  39      52       43       60       50   \n",
       "\n",
       "   Speed  Legendary  \n",
       "0     45      False  \n",
       "1     60      False  \n",
       "2     80      False  \n",
       "3     80      False  \n",
       "4     65      False  "
      ]
     },
     "execution_count": 853,
     "metadata": {},
     "output_type": "execute_result"
    }
   ],
   "source": [
    "Pokemon_df.head()"
   ]
  },
  {
   "cell_type": "code",
   "execution_count": 882,
   "metadata": {},
   "outputs": [
    {
     "data": {
      "text/html": [
       "<div>\n",
       "<style scoped>\n",
       "    .dataframe tbody tr th:only-of-type {\n",
       "        vertical-align: middle;\n",
       "    }\n",
       "\n",
       "    .dataframe tbody tr th {\n",
       "        vertical-align: top;\n",
       "    }\n",
       "\n",
       "    .dataframe thead th {\n",
       "        text-align: right;\n",
       "    }\n",
       "</style>\n",
       "<table border=\"1\" class=\"dataframe\">\n",
       "  <thead>\n",
       "    <tr style=\"text-align: right;\">\n",
       "      <th></th>\n",
       "      <th>First_pokemon</th>\n",
       "      <th>Second_pokemon</th>\n",
       "      <th>Winner</th>\n",
       "    </tr>\n",
       "  </thead>\n",
       "  <tbody>\n",
       "    <tr>\n",
       "      <th>count</th>\n",
       "      <td>50000.000000</td>\n",
       "      <td>50000.000000</td>\n",
       "      <td>50000.000000</td>\n",
       "    </tr>\n",
       "    <tr>\n",
       "      <th>mean</th>\n",
       "      <td>400.495640</td>\n",
       "      <td>403.159660</td>\n",
       "      <td>408.890100</td>\n",
       "    </tr>\n",
       "    <tr>\n",
       "      <th>std</th>\n",
       "      <td>229.549429</td>\n",
       "      <td>230.083644</td>\n",
       "      <td>231.159961</td>\n",
       "    </tr>\n",
       "    <tr>\n",
       "      <th>min</th>\n",
       "      <td>1.000000</td>\n",
       "      <td>1.000000</td>\n",
       "      <td>1.000000</td>\n",
       "    </tr>\n",
       "    <tr>\n",
       "      <th>25%</th>\n",
       "      <td>203.000000</td>\n",
       "      <td>207.000000</td>\n",
       "      <td>206.000000</td>\n",
       "    </tr>\n",
       "    <tr>\n",
       "      <th>50%</th>\n",
       "      <td>399.000000</td>\n",
       "      <td>402.000000</td>\n",
       "      <td>422.000000</td>\n",
       "    </tr>\n",
       "    <tr>\n",
       "      <th>75%</th>\n",
       "      <td>597.250000</td>\n",
       "      <td>602.000000</td>\n",
       "      <td>606.000000</td>\n",
       "    </tr>\n",
       "    <tr>\n",
       "      <th>max</th>\n",
       "      <td>800.000000</td>\n",
       "      <td>800.000000</td>\n",
       "      <td>800.000000</td>\n",
       "    </tr>\n",
       "  </tbody>\n",
       "</table>\n",
       "</div>"
      ],
      "text/plain": [
       "       First_pokemon  Second_pokemon        Winner\n",
       "count   50000.000000    50000.000000  50000.000000\n",
       "mean      400.495640      403.159660    408.890100\n",
       "std       229.549429      230.083644    231.159961\n",
       "min         1.000000        1.000000      1.000000\n",
       "25%       203.000000      207.000000    206.000000\n",
       "50%       399.000000      402.000000    422.000000\n",
       "75%       597.250000      602.000000    606.000000\n",
       "max       800.000000      800.000000    800.000000"
      ]
     },
     "execution_count": 882,
     "metadata": {},
     "output_type": "execute_result"
    }
   ],
   "source": [
    "Combats_df.describe()"
   ]
  },
  {
   "cell_type": "code",
   "execution_count": 861,
   "metadata": {},
   "outputs": [
    {
     "data": {
      "text/html": [
       "<div>\n",
       "<style scoped>\n",
       "    .dataframe tbody tr th:only-of-type {\n",
       "        vertical-align: middle;\n",
       "    }\n",
       "\n",
       "    .dataframe tbody tr th {\n",
       "        vertical-align: top;\n",
       "    }\n",
       "\n",
       "    .dataframe thead th {\n",
       "        text-align: right;\n",
       "    }\n",
       "</style>\n",
       "<table border=\"1\" class=\"dataframe\">\n",
       "  <thead>\n",
       "    <tr style=\"text-align: right;\">\n",
       "      <th></th>\n",
       "      <th>pid</th>\n",
       "      <th>HP</th>\n",
       "      <th>Attack</th>\n",
       "      <th>Defense</th>\n",
       "      <th>Sp. Atk</th>\n",
       "      <th>Sp. Def</th>\n",
       "      <th>Speed</th>\n",
       "    </tr>\n",
       "  </thead>\n",
       "  <tbody>\n",
       "    <tr>\n",
       "      <th>count</th>\n",
       "      <td>800.0000</td>\n",
       "      <td>800.000000</td>\n",
       "      <td>800.000000</td>\n",
       "      <td>800.000000</td>\n",
       "      <td>800.000000</td>\n",
       "      <td>800.000000</td>\n",
       "      <td>800.000000</td>\n",
       "    </tr>\n",
       "    <tr>\n",
       "      <th>mean</th>\n",
       "      <td>400.5000</td>\n",
       "      <td>69.258750</td>\n",
       "      <td>79.001250</td>\n",
       "      <td>73.842500</td>\n",
       "      <td>72.820000</td>\n",
       "      <td>71.902500</td>\n",
       "      <td>68.277500</td>\n",
       "    </tr>\n",
       "    <tr>\n",
       "      <th>std</th>\n",
       "      <td>231.0844</td>\n",
       "      <td>25.534669</td>\n",
       "      <td>32.457366</td>\n",
       "      <td>31.183501</td>\n",
       "      <td>32.722294</td>\n",
       "      <td>27.828916</td>\n",
       "      <td>29.060474</td>\n",
       "    </tr>\n",
       "    <tr>\n",
       "      <th>min</th>\n",
       "      <td>1.0000</td>\n",
       "      <td>1.000000</td>\n",
       "      <td>5.000000</td>\n",
       "      <td>5.000000</td>\n",
       "      <td>10.000000</td>\n",
       "      <td>20.000000</td>\n",
       "      <td>5.000000</td>\n",
       "    </tr>\n",
       "    <tr>\n",
       "      <th>25%</th>\n",
       "      <td>200.7500</td>\n",
       "      <td>50.000000</td>\n",
       "      <td>55.000000</td>\n",
       "      <td>50.000000</td>\n",
       "      <td>49.750000</td>\n",
       "      <td>50.000000</td>\n",
       "      <td>45.000000</td>\n",
       "    </tr>\n",
       "    <tr>\n",
       "      <th>50%</th>\n",
       "      <td>400.5000</td>\n",
       "      <td>65.000000</td>\n",
       "      <td>75.000000</td>\n",
       "      <td>70.000000</td>\n",
       "      <td>65.000000</td>\n",
       "      <td>70.000000</td>\n",
       "      <td>65.000000</td>\n",
       "    </tr>\n",
       "    <tr>\n",
       "      <th>75%</th>\n",
       "      <td>600.2500</td>\n",
       "      <td>80.000000</td>\n",
       "      <td>100.000000</td>\n",
       "      <td>90.000000</td>\n",
       "      <td>95.000000</td>\n",
       "      <td>90.000000</td>\n",
       "      <td>90.000000</td>\n",
       "    </tr>\n",
       "    <tr>\n",
       "      <th>max</th>\n",
       "      <td>800.0000</td>\n",
       "      <td>255.000000</td>\n",
       "      <td>190.000000</td>\n",
       "      <td>230.000000</td>\n",
       "      <td>194.000000</td>\n",
       "      <td>230.000000</td>\n",
       "      <td>180.000000</td>\n",
       "    </tr>\n",
       "  </tbody>\n",
       "</table>\n",
       "</div>"
      ],
      "text/plain": [
       "            pid          HP      Attack     Defense     Sp. Atk     Sp. Def  \\\n",
       "count  800.0000  800.000000  800.000000  800.000000  800.000000  800.000000   \n",
       "mean   400.5000   69.258750   79.001250   73.842500   72.820000   71.902500   \n",
       "std    231.0844   25.534669   32.457366   31.183501   32.722294   27.828916   \n",
       "min      1.0000    1.000000    5.000000    5.000000   10.000000   20.000000   \n",
       "25%    200.7500   50.000000   55.000000   50.000000   49.750000   50.000000   \n",
       "50%    400.5000   65.000000   75.000000   70.000000   65.000000   70.000000   \n",
       "75%    600.2500   80.000000  100.000000   90.000000   95.000000   90.000000   \n",
       "max    800.0000  255.000000  190.000000  230.000000  194.000000  230.000000   \n",
       "\n",
       "            Speed  \n",
       "count  800.000000  \n",
       "mean    68.277500  \n",
       "std     29.060474  \n",
       "min      5.000000  \n",
       "25%     45.000000  \n",
       "50%     65.000000  \n",
       "75%     90.000000  \n",
       "max    180.000000  "
      ]
     },
     "execution_count": 861,
     "metadata": {},
     "output_type": "execute_result"
    }
   ],
   "source": [
    "Pokemon_df.describe()"
   ]
  },
  {
   "cell_type": "markdown",
   "metadata": {},
   "source": [
    "(6 points) Explore the data and report some descriptive statistics (e.g., use df.describe(), report the number of classes, summarize the attack and defense distributions, etc.). This will be useful later in your analysis."
   ]
  },
  {
   "cell_type": "code",
   "execution_count": 860,
   "metadata": {},
   "outputs": [
    {
     "data": {
      "text/plain": [
       "False    735\n",
       "True      65\n",
       "Name: Legendary, dtype: int64"
      ]
     },
     "execution_count": 860,
     "metadata": {},
     "output_type": "execute_result"
    }
   ],
   "source": [
    "#the number of classes, summarize the attack and defense distributions\n",
    "\n",
    "Pokemon_df['Legendary'].value_counts()."
   ]
  },
  {
   "cell_type": "code",
   "execution_count": 864,
   "metadata": {},
   "outputs": [
    {
     "data": {
      "text/plain": [
       "<matplotlib.axes._subplots.AxesSubplot at 0x1a24b78b00>"
      ]
     },
     "execution_count": 864,
     "metadata": {},
     "output_type": "execute_result"
    },
    {
     "data": {
      "image/png": "[encoded data removed]",
      "text/plain": [
       "<Figure size 432x288 with 1 Axes>"
      ]
     },
     "metadata": {},
     "output_type": "display_data"
    }
   ],
   "source": [
    "Pokemon_df['Legendary'].value_counts().plot('bar')"
   ]
  },
  {
   "cell_type": "code",
   "execution_count": 884,
   "metadata": {},
   "outputs": [
    {
     "data": {
      "text/plain": [
       "Water       112\n",
       "Normal       98\n",
       "Grass        70\n",
       "Bug          69\n",
       "Psychic      57\n",
       "Fire         52\n",
       "Rock         44\n",
       "Electric     44\n",
       "Ground       32\n",
       "Dragon       32\n",
       "Ghost        32\n",
       "Dark         31\n",
       "Poison       28\n",
       "Fighting     27\n",
       "Steel        27\n",
       "Ice          24\n",
       "Fairy        17\n",
       "Flying        4\n",
       "Name: Class 1, dtype: int64"
      ]
     },
     "execution_count": 884,
     "metadata": {},
     "output_type": "execute_result"
    }
   ],
   "source": [
    "Pokemon_df['Class 1'].value_counts()"
   ]
  },
  {
   "cell_type": "code",
   "execution_count": 886,
   "metadata": {},
   "outputs": [
    {
     "data": {
      "text/plain": [
       "<matplotlib.axes._subplots.AxesSubplot at 0x1a18fd2828>"
      ]
     },
     "execution_count": 886,
     "metadata": {},
     "output_type": "execute_result"
    },
    {
     "data": {
      "image/png": "[encoded data removed]",
      "text/plain": [
       "<Figure size 432x288 with 1 Axes>"
      ]
     },
     "metadata": {},
     "output_type": "display_data"
    }
   ],
   "source": [
    "Pokemon_df['Class 1'].value_counts().plot('bar')"
   ]
  },
  {
   "cell_type": "code",
   "execution_count": 887,
   "metadata": {},
   "outputs": [
    {
     "data": {
      "text/plain": [
       "<matplotlib.axes._subplots.AxesSubplot at 0x1a190c3da0>"
      ]
     },
     "execution_count": 887,
     "metadata": {},
     "output_type": "execute_result"
    },
    {
     "data": {
      "image/png": "[encoded data removed]",
      "text/plain": [
       "<Figure size 432x288 with 1 Axes>"
      ]
     },
     "metadata": {},
     "output_type": "display_data"
    }
   ],
   "source": [
    "Pokemon_df['Class 2'].value_counts().plot('bar')"
   ]
  },
  {
   "cell_type": "markdown",
   "metadata": {},
   "source": [
    "Answer: If Legendary was the class lael in our data, the variable we want to predict, we can clearly see that the catagorical variable for Legendary Pokemon is unblanaced. Imbalanced classes are a common problem in machine learning and couse overfitting and poor predictive models. Cross-validation techniques, Smote-sampling, oversampling and undersampling can help resolve this issue.\n",
    "\n",
    "Class 1 and Class 2 are Multi-labels, instead of a [0,1] segmoid activation function like in logistic regression, we can use soft-max activiation to predict such a variable. Moreover, we can see that most of the pokemons in my data set are of flying and water types."
   ]
  },
  {
   "cell_type": "code",
   "execution_count": 869,
   "metadata": {},
   "outputs": [
    {
     "data": {
      "text/plain": [
       "<matplotlib.axes._subplots.AxesSubplot at 0x1a24d491d0>"
      ]
     },
     "execution_count": 869,
     "metadata": {},
     "output_type": "execute_result"
    },
    {
     "data": {
      "image/png": "[encoded data removed]",
      "text/plain": [
       "<Figure size 432x288 with 1 Axes>"
      ]
     },
     "metadata": {},
     "output_type": "display_data"
    }
   ],
   "source": [
    "Pokemon_df['Attack'].plot('Hist')"
   ]
  },
  {
   "cell_type": "code",
   "execution_count": 890,
   "metadata": {},
   "outputs": [
    {
     "name": "stdout",
     "output_type": "stream",
     "text": [
      "Attack Mean: 79.00125\n",
      "Attack Median: 75.0\n",
      "Attack Mode: 0    100\n",
      "dtype: int64\n",
      "Attack Skewness: 0.5516137480269772\n",
      "Attack Kurtosis: 0.1697173149230906\n",
      "Max Attack: 190\n",
      "Min Attack: 5\n",
      "Attack Range: 185\n"
     ]
    }
   ],
   "source": [
    "print(\"Attack Mean:\", Pokemon_df['Attack'].mean())\n",
    "print(\"Attack Median:\", Pokemon_df['Attack'].median())\n",
    "print(\"Attack Mode:\", Pokemon_df['Attack'].mode())\n",
    "print(\"Attack Skewness:\", Pokemon_df['Attack'].skew())\n",
    "print(\"Attack Kurtosis:\", Pokemon_df['Attack'].kurt())\n",
    "print(\"Max Attack:\",Pokemon_df['Attack'].max())\n",
    "print(\"Min Attack:\",Pokemon_df['Attack'].min())\n",
    "Range = (Pokemon_df['Attack'].max() - Pokemon_df['Attack'].min())\n",
    "print(\"Attack Range:\",Range)"
   ]
  },
  {
   "cell_type": "code",
   "execution_count": 868,
   "metadata": {},
   "outputs": [
    {
     "data": {
      "text/plain": [
       "<matplotlib.axes._subplots.AxesSubplot at 0x1a24c7ea20>"
      ]
     },
     "execution_count": 868,
     "metadata": {},
     "output_type": "execute_result"
    },
    {
     "data": {
      "image/png": "[encoded data removed]",
      "text/plain": [
       "<Figure size 432x288 with 1 Axes>"
      ]
     },
     "metadata": {},
     "output_type": "display_data"
    }
   ],
   "source": [
    "Pokemon_df['Defense'].plot('Hist')"
   ]
  },
  {
   "cell_type": "code",
   "execution_count": 889,
   "metadata": {},
   "outputs": [
    {
     "name": "stdout",
     "output_type": "stream",
     "text": [
      "Defense Mean: 73.8425\n",
      "Defense Median: 70.0\n",
      "Defense Mode: 0    70\n",
      "dtype: int64\n",
      "Defense Skewness: 1.1559123029560856\n",
      "Defense Kurtosis: 2.726260359939344\n",
      "Max Defense: 230\n",
      "Min Defense: 5\n",
      "Defense Range: 225\n"
     ]
    }
   ],
   "source": [
    "print(\"Defense Mean:\", Pokemon_df['Defense'].mean())\n",
    "print(\"Defense Median:\", Pokemon_df['Defense'].median())\n",
    "print(\"Defense Mode:\", Pokemon_df['Defense'].mode())\n",
    "print(\"Defense Skewness:\", Pokemon_df['Defense'].skew())\n",
    "print(\"Defense Kurtosis:\", Pokemon_df['Defense'].kurt())\n",
    "print(\"Max Defense:\",Pokemon_df['Defense'].max())\n",
    "print(\"Min Defense:\",Pokemon_df['Defense'].min())\n",
    "Range = (Pokemon_df['Defense'].max() - Pokemon_df['Defense'].min())\n",
    "print(\"Defense Range:\",Range)"
   ]
  },
  {
   "cell_type": "markdown",
   "metadata": {},
   "source": [
    "Normal Distribution Characteristics:\n",
    "\n",
    "#Normal Mean = Median = Mode = 0\n",
    "#Normal Skewness = 0\n",
    "#Normal Kurtosis = 3"
   ]
  },
  {
   "cell_type": "markdown",
   "metadata": {},
   "source": [
    "Attack Distribution Analysis: The kurtosis is close to zero, less than or equal to three and above zero. This implies that the distribution is Mesokurtic, meaning that the probability of extreme, rare, or outlier data is zero or close to zero. We can see that the distribution is also positively skewed, Mean > Median > Mode. This would emply that, most values are clustered around the left tail of the distribution while the right tail of the distribution is longer, or that there are less pokemons with high attacking skills, that is the majority of the pokemon in the data set are of less attack. Low median attack, or 50% of the pokemons are below the average attack."
   ]
  },
  {
   "cell_type": "markdown",
   "metadata": {},
   "source": [
    "Defense Distribution Analysis: The kurtosis is close to three, less than or equal to three and above zero. This implies that the distribution is Mesokurtic, meaning that the probability of extreme, rare, or outlier data is zero or close to zero. We can see that the distribution is also positively skewed, not normal, Mean > Median > Mode. This would emply that there are less pokemons with high defensive skill, that is the majority of the pokemon in the data set are of less defensive skill. Low median defense, or 50% of the pokemons are below the average defense."
   ]
  },
  {
   "cell_type": "code",
   "execution_count": 892,
   "metadata": {},
   "outputs": [],
   "source": [
    "#Clustering\n",
    "clust_df = Pokemon_df[['Defense','Attack']]\n",
    "clust_df2 = Pokemon_df[['Defense','Attack', 'Speed']]"
   ]
  },
  {
   "cell_type": "code",
   "execution_count": 893,
   "metadata": {},
   "outputs": [
    {
     "data": {
      "text/html": [
       "<div>\n",
       "<style scoped>\n",
       "    .dataframe tbody tr th:only-of-type {\n",
       "        vertical-align: middle;\n",
       "    }\n",
       "\n",
       "    .dataframe tbody tr th {\n",
       "        vertical-align: top;\n",
       "    }\n",
       "\n",
       "    .dataframe thead th {\n",
       "        text-align: right;\n",
       "    }\n",
       "</style>\n",
       "<table border=\"1\" class=\"dataframe\">\n",
       "  <thead>\n",
       "    <tr style=\"text-align: right;\">\n",
       "      <th></th>\n",
       "      <th>Defense</th>\n",
       "      <th>Attack</th>\n",
       "    </tr>\n",
       "  </thead>\n",
       "  <tbody>\n",
       "    <tr>\n",
       "      <th>0</th>\n",
       "      <td>49</td>\n",
       "      <td>49</td>\n",
       "    </tr>\n",
       "    <tr>\n",
       "      <th>1</th>\n",
       "      <td>63</td>\n",
       "      <td>62</td>\n",
       "    </tr>\n",
       "    <tr>\n",
       "      <th>2</th>\n",
       "      <td>83</td>\n",
       "      <td>82</td>\n",
       "    </tr>\n",
       "    <tr>\n",
       "      <th>3</th>\n",
       "      <td>123</td>\n",
       "      <td>100</td>\n",
       "    </tr>\n",
       "    <tr>\n",
       "      <th>4</th>\n",
       "      <td>43</td>\n",
       "      <td>52</td>\n",
       "    </tr>\n",
       "  </tbody>\n",
       "</table>\n",
       "</div>"
      ],
      "text/plain": [
       "   Defense  Attack\n",
       "0       49      49\n",
       "1       63      62\n",
       "2       83      82\n",
       "3      123     100\n",
       "4       43      52"
      ]
     },
     "execution_count": 893,
     "metadata": {},
     "output_type": "execute_result"
    }
   ],
   "source": [
    "clust_df.head()"
   ]
  },
  {
   "cell_type": "code",
   "execution_count": 3,
   "metadata": {},
   "outputs": [],
   "source": [
    "import pandas as pd\n",
    "import numpy as np\n",
    "import matplotlib.pyplot as plt\n",
    "%matplotlib inline \n",
    "from sklearn.cluster import KMeans"
   ]
  },
  {
   "cell_type": "code",
   "execution_count": 896,
   "metadata": {},
   "outputs": [],
   "source": [
    "distortions = []\n",
    "K = range(1,10)\n",
    "for k in K:\n",
    "    kmeanModel = KMeans(n_clusters=k)\n",
    "    kmeanModel.fit(clust_df)\n",
    "    distortions.append(kmeanModel.inertia_)"
   ]
  },
  {
   "cell_type": "code",
   "execution_count": 897,
   "metadata": {},
   "outputs": [
    {
     "data": {
      "image/png": "[encoded data removed]",
      "text/plain": [
       "<Figure size 1152x576 with 1 Axes>"
      ]
     },
     "metadata": {},
     "output_type": "display_data"
    }
   ],
   "source": [
    "plt.figure(figsize=(16,8))\n",
    "plt.plot(K, distortions, 'bx-')\n",
    "plt.xlabel('k')\n",
    "plt.ylabel('Distortion')\n",
    "plt.title('The Elbow Method showing the optimal k')\n",
    "plt.show()"
   ]
  },
  {
   "cell_type": "code",
   "execution_count": 918,
   "metadata": {},
   "outputs": [],
   "source": [
    "kmeanModel = KMeans(n_clusters=2)\n",
    "y_kmeans = kmeanModel.fit(clust_df)\n"
   ]
  },
  {
   "cell_type": "code",
   "execution_count": 919,
   "metadata": {},
   "outputs": [
    {
     "data": {
      "text/html": [
       "<div>\n",
       "<style scoped>\n",
       "    .dataframe tbody tr th:only-of-type {\n",
       "        vertical-align: middle;\n",
       "    }\n",
       "\n",
       "    .dataframe tbody tr th {\n",
       "        vertical-align: top;\n",
       "    }\n",
       "\n",
       "    .dataframe thead th {\n",
       "        text-align: right;\n",
       "    }\n",
       "</style>\n",
       "<table border=\"1\" class=\"dataframe\">\n",
       "  <thead>\n",
       "    <tr style=\"text-align: right;\">\n",
       "      <th></th>\n",
       "      <th>Defense</th>\n",
       "      <th>Attack</th>\n",
       "      <th>k_means</th>\n",
       "    </tr>\n",
       "  </thead>\n",
       "  <tbody>\n",
       "    <tr>\n",
       "      <th>0</th>\n",
       "      <td>49</td>\n",
       "      <td>49</td>\n",
       "      <td>0</td>\n",
       "    </tr>\n",
       "    <tr>\n",
       "      <th>1</th>\n",
       "      <td>63</td>\n",
       "      <td>62</td>\n",
       "      <td>0</td>\n",
       "    </tr>\n",
       "    <tr>\n",
       "      <th>2</th>\n",
       "      <td>83</td>\n",
       "      <td>82</td>\n",
       "      <td>1</td>\n",
       "    </tr>\n",
       "    <tr>\n",
       "      <th>3</th>\n",
       "      <td>123</td>\n",
       "      <td>100</td>\n",
       "      <td>1</td>\n",
       "    </tr>\n",
       "    <tr>\n",
       "      <th>4</th>\n",
       "      <td>43</td>\n",
       "      <td>52</td>\n",
       "      <td>0</td>\n",
       "    </tr>\n",
       "  </tbody>\n",
       "</table>\n",
       "</div>"
      ],
      "text/plain": [
       "   Defense  Attack  k_means\n",
       "0       49      49        0\n",
       "1       63      62        0\n",
       "2       83      82        1\n",
       "3      123     100        1\n",
       "4       43      52        0"
      ]
     },
     "execution_count": 919,
     "metadata": {},
     "output_type": "execute_result"
    }
   ],
   "source": [
    "clust_df.head()"
   ]
  },
  {
   "cell_type": "code",
   "execution_count": 976,
   "metadata": {},
   "outputs": [
    {
     "data": {
      "text/plain": [
       "Text(0,0.5,'Attack')"
      ]
     },
     "execution_count": 976,
     "metadata": {},
     "output_type": "execute_result"
    },
    {
     "data": {
      "image/png": "[encoded data removed]",
      "text/plain": [
       "<Figure size 432x288 with 1 Axes>"
      ]
     },
     "metadata": {},
     "output_type": "display_data"
    }
   ],
   "source": [
    "fig = plt.figure()\n",
    "ax = fig.add_subplot(111)\n",
    "plt.scatter(clust_df['Defense'], clust_df['Attack'])\n",
    "ax.set_title('Attack vs Defense Scatter plot')\n",
    "ax.set_xlabel('Defense')\n",
    "ax.set_ylabel('Attack')"
   ]
  },
  {
   "cell_type": "code",
   "execution_count": 967,
   "metadata": {},
   "outputs": [
    {
     "data": {
      "text/plain": [
       "<matplotlib.colorbar.Colorbar at 0x1a26b60198>"
      ]
     },
     "execution_count": 967,
     "metadata": {},
     "output_type": "execute_result"
    },
    {
     "data": {
      "image/png": "[encoded data removed]",
      "text/plain": [
       "<Figure size 432x288 with 2 Axes>"
      ]
     },
     "metadata": {},
     "output_type": "display_data"
    }
   ],
   "source": [
    "#Plot the clusters obtained using k means\n",
    "fig = plt.figure()\n",
    "ax = fig.add_subplot(111)\n",
    "scatter = ax.scatter(clust_df['Defense'],clust_df['Attack'],\n",
    "                     c=clust_df['k_means'],s=25)\n",
    "ax.set_title('K-Means Clustering')\n",
    "ax.set_xlabel('Defense')\n",
    "ax.set_ylabel('Attack')\n",
    "plt.colorbar(scatter)"
   ]
  },
  {
   "cell_type": "markdown",
   "metadata": {},
   "source": [
    "2D Clustering analysis: We can see that our Pokemons are of two major types or groups. Group 1, labeled in purple is the low defenss, low attack pokemons. These are weak pokemons, and the other group, labeled in yellow is Group number 2, these are very strong pokemons with very high defensive power. We can also see one outlier, at the bottom right, which has very high defense and very low defense. This point could be a result of an error in the data, and if so we can truncat it or use an average value, mean, linear regression to predict it if it is a messing value."
   ]
  },
  {
   "cell_type": "code",
   "execution_count": 964,
   "metadata": {},
   "outputs": [
    {
     "data": {
      "text/html": [
       "<div>\n",
       "<style scoped>\n",
       "    .dataframe tbody tr th:only-of-type {\n",
       "        vertical-align: middle;\n",
       "    }\n",
       "\n",
       "    .dataframe tbody tr th {\n",
       "        vertical-align: top;\n",
       "    }\n",
       "\n",
       "    .dataframe thead th {\n",
       "        text-align: right;\n",
       "    }\n",
       "</style>\n",
       "<table border=\"1\" class=\"dataframe\">\n",
       "  <thead>\n",
       "    <tr style=\"text-align: right;\">\n",
       "      <th></th>\n",
       "      <th>pid</th>\n",
       "      <th>Name</th>\n",
       "      <th>Class 1</th>\n",
       "      <th>Class 2</th>\n",
       "      <th>HP</th>\n",
       "      <th>Attack</th>\n",
       "      <th>Defense</th>\n",
       "      <th>Sp. Atk</th>\n",
       "      <th>Sp. Def</th>\n",
       "      <th>Speed</th>\n",
       "      <th>Legendary</th>\n",
       "    </tr>\n",
       "  </thead>\n",
       "  <tbody>\n",
       "    <tr>\n",
       "      <th>0</th>\n",
       "      <td>1</td>\n",
       "      <td>Bulbasaur</td>\n",
       "      <td>Grass</td>\n",
       "      <td>Poison</td>\n",
       "      <td>45</td>\n",
       "      <td>49</td>\n",
       "      <td>49</td>\n",
       "      <td>65</td>\n",
       "      <td>65</td>\n",
       "      <td>45</td>\n",
       "      <td>False</td>\n",
       "    </tr>\n",
       "    <tr>\n",
       "      <th>1</th>\n",
       "      <td>2</td>\n",
       "      <td>Ivysaur</td>\n",
       "      <td>Grass</td>\n",
       "      <td>Poison</td>\n",
       "      <td>60</td>\n",
       "      <td>62</td>\n",
       "      <td>63</td>\n",
       "      <td>80</td>\n",
       "      <td>80</td>\n",
       "      <td>60</td>\n",
       "      <td>False</td>\n",
       "    </tr>\n",
       "    <tr>\n",
       "      <th>2</th>\n",
       "      <td>3</td>\n",
       "      <td>Venusaur</td>\n",
       "      <td>Grass</td>\n",
       "      <td>Poison</td>\n",
       "      <td>80</td>\n",
       "      <td>82</td>\n",
       "      <td>83</td>\n",
       "      <td>100</td>\n",
       "      <td>100</td>\n",
       "      <td>80</td>\n",
       "      <td>False</td>\n",
       "    </tr>\n",
       "    <tr>\n",
       "      <th>3</th>\n",
       "      <td>4</td>\n",
       "      <td>Mega Venusaur</td>\n",
       "      <td>Grass</td>\n",
       "      <td>Poison</td>\n",
       "      <td>80</td>\n",
       "      <td>100</td>\n",
       "      <td>123</td>\n",
       "      <td>122</td>\n",
       "      <td>120</td>\n",
       "      <td>80</td>\n",
       "      <td>False</td>\n",
       "    </tr>\n",
       "    <tr>\n",
       "      <th>4</th>\n",
       "      <td>5</td>\n",
       "      <td>Charmander</td>\n",
       "      <td>Fire</td>\n",
       "      <td>NaN</td>\n",
       "      <td>39</td>\n",
       "      <td>52</td>\n",
       "      <td>43</td>\n",
       "      <td>60</td>\n",
       "      <td>50</td>\n",
       "      <td>65</td>\n",
       "      <td>False</td>\n",
       "    </tr>\n",
       "  </tbody>\n",
       "</table>\n",
       "</div>"
      ],
      "text/plain": [
       "   pid           Name Class 1 Class 2  HP  Attack  Defense  Sp. Atk  Sp. Def  \\\n",
       "0    1      Bulbasaur   Grass  Poison  45      49       49       65       65   \n",
       "1    2        Ivysaur   Grass  Poison  60      62       63       80       80   \n",
       "2    3       Venusaur   Grass  Poison  80      82       83      100      100   \n",
       "3    4  Mega Venusaur   Grass  Poison  80     100      123      122      120   \n",
       "4    5     Charmander    Fire     NaN  39      52       43       60       50   \n",
       "\n",
       "   Speed  Legendary  \n",
       "0     45      False  \n",
       "1     60      False  \n",
       "2     80      False  \n",
       "3     80      False  \n",
       "4     65      False  "
      ]
     },
     "execution_count": 964,
     "metadata": {},
     "output_type": "execute_result"
    }
   ],
   "source": [
    "Pokemon_df.head()"
   ]
  },
  {
   "cell_type": "code",
   "execution_count": 968,
   "metadata": {},
   "outputs": [
    {
     "data": {
      "text/html": [
       "<div>\n",
       "<style scoped>\n",
       "    .dataframe tbody tr th:only-of-type {\n",
       "        vertical-align: middle;\n",
       "    }\n",
       "\n",
       "    .dataframe tbody tr th {\n",
       "        vertical-align: top;\n",
       "    }\n",
       "\n",
       "    .dataframe thead th {\n",
       "        text-align: right;\n",
       "    }\n",
       "</style>\n",
       "<table border=\"1\" class=\"dataframe\">\n",
       "  <thead>\n",
       "    <tr style=\"text-align: right;\">\n",
       "      <th></th>\n",
       "      <th>First_pokemon</th>\n",
       "      <th>Second_pokemon</th>\n",
       "      <th>Winner</th>\n",
       "    </tr>\n",
       "  </thead>\n",
       "  <tbody>\n",
       "    <tr>\n",
       "      <th>0</th>\n",
       "      <td>266</td>\n",
       "      <td>298</td>\n",
       "      <td>298</td>\n",
       "    </tr>\n",
       "    <tr>\n",
       "      <th>1</th>\n",
       "      <td>702</td>\n",
       "      <td>701</td>\n",
       "      <td>701</td>\n",
       "    </tr>\n",
       "    <tr>\n",
       "      <th>2</th>\n",
       "      <td>191</td>\n",
       "      <td>668</td>\n",
       "      <td>668</td>\n",
       "    </tr>\n",
       "    <tr>\n",
       "      <th>3</th>\n",
       "      <td>237</td>\n",
       "      <td>683</td>\n",
       "      <td>683</td>\n",
       "    </tr>\n",
       "    <tr>\n",
       "      <th>4</th>\n",
       "      <td>151</td>\n",
       "      <td>231</td>\n",
       "      <td>151</td>\n",
       "    </tr>\n",
       "  </tbody>\n",
       "</table>\n",
       "</div>"
      ],
      "text/plain": [
       "   First_pokemon  Second_pokemon  Winner\n",
       "0            266             298     298\n",
       "1            702             701     701\n",
       "2            191             668     668\n",
       "3            237             683     683\n",
       "4            151             231     151"
      ]
     },
     "execution_count": 968,
     "metadata": {},
     "output_type": "execute_result"
    }
   ],
   "source": [
    "Combats_df.head()"
   ]
  },
  {
   "cell_type": "code",
   "execution_count": 1114,
   "metadata": {},
   "outputs": [
    {
     "name": "stdout",
     "output_type": "stream",
     "text": [
      "Pokemon_df Diminsions: (800, 12)\n",
      "Combat_df Diminsions: (50000, 3)\n"
     ]
    }
   ],
   "source": [
    "print(\"Pokemon_df Diminsions:\", Pokemon_df.shape)\n",
    "print(\"Combat_df Diminsions:\", Combats_df.shape)"
   ]
  },
  {
   "cell_type": "code",
   "execution_count": 970,
   "metadata": {},
   "outputs": [
    {
     "data": {
      "text/html": [
       "<div>\n",
       "<style scoped>\n",
       "    .dataframe tbody tr th:only-of-type {\n",
       "        vertical-align: middle;\n",
       "    }\n",
       "\n",
       "    .dataframe tbody tr th {\n",
       "        vertical-align: top;\n",
       "    }\n",
       "\n",
       "    .dataframe thead th {\n",
       "        text-align: right;\n",
       "    }\n",
       "</style>\n",
       "<table border=\"1\" class=\"dataframe\">\n",
       "  <thead>\n",
       "    <tr style=\"text-align: right;\">\n",
       "      <th></th>\n",
       "      <th>pid</th>\n",
       "      <th>HP</th>\n",
       "      <th>Attack</th>\n",
       "      <th>Defense</th>\n",
       "      <th>Sp. Atk</th>\n",
       "      <th>Sp. Def</th>\n",
       "      <th>Speed</th>\n",
       "      <th>Legendary</th>\n",
       "    </tr>\n",
       "  </thead>\n",
       "  <tbody>\n",
       "    <tr>\n",
       "      <th>pid</th>\n",
       "      <td>1.000000</td>\n",
       "      <td>0.097712</td>\n",
       "      <td>0.102664</td>\n",
       "      <td>0.094691</td>\n",
       "      <td>0.089199</td>\n",
       "      <td>0.085596</td>\n",
       "      <td>0.012181</td>\n",
       "      <td>0.154336</td>\n",
       "    </tr>\n",
       "    <tr>\n",
       "      <th>HP</th>\n",
       "      <td>0.097712</td>\n",
       "      <td>1.000000</td>\n",
       "      <td>0.422386</td>\n",
       "      <td>0.239622</td>\n",
       "      <td>0.362380</td>\n",
       "      <td>0.378718</td>\n",
       "      <td>0.175952</td>\n",
       "      <td>0.273620</td>\n",
       "    </tr>\n",
       "    <tr>\n",
       "      <th>Attack</th>\n",
       "      <td>0.102664</td>\n",
       "      <td>0.422386</td>\n",
       "      <td>1.000000</td>\n",
       "      <td>0.438687</td>\n",
       "      <td>0.396362</td>\n",
       "      <td>0.263990</td>\n",
       "      <td>0.381240</td>\n",
       "      <td>0.345408</td>\n",
       "    </tr>\n",
       "    <tr>\n",
       "      <th>Defense</th>\n",
       "      <td>0.094691</td>\n",
       "      <td>0.239622</td>\n",
       "      <td>0.438687</td>\n",
       "      <td>1.000000</td>\n",
       "      <td>0.223549</td>\n",
       "      <td>0.510747</td>\n",
       "      <td>0.015227</td>\n",
       "      <td>0.246377</td>\n",
       "    </tr>\n",
       "    <tr>\n",
       "      <th>Sp. Atk</th>\n",
       "      <td>0.089199</td>\n",
       "      <td>0.362380</td>\n",
       "      <td>0.396362</td>\n",
       "      <td>0.223549</td>\n",
       "      <td>1.000000</td>\n",
       "      <td>0.506121</td>\n",
       "      <td>0.473018</td>\n",
       "      <td>0.448907</td>\n",
       "    </tr>\n",
       "    <tr>\n",
       "      <th>Sp. Def</th>\n",
       "      <td>0.085596</td>\n",
       "      <td>0.378718</td>\n",
       "      <td>0.263990</td>\n",
       "      <td>0.510747</td>\n",
       "      <td>0.506121</td>\n",
       "      <td>1.000000</td>\n",
       "      <td>0.259133</td>\n",
       "      <td>0.363937</td>\n",
       "    </tr>\n",
       "    <tr>\n",
       "      <th>Speed</th>\n",
       "      <td>0.012181</td>\n",
       "      <td>0.175952</td>\n",
       "      <td>0.381240</td>\n",
       "      <td>0.015227</td>\n",
       "      <td>0.473018</td>\n",
       "      <td>0.259133</td>\n",
       "      <td>1.000000</td>\n",
       "      <td>0.326715</td>\n",
       "    </tr>\n",
       "    <tr>\n",
       "      <th>Legendary</th>\n",
       "      <td>0.154336</td>\n",
       "      <td>0.273620</td>\n",
       "      <td>0.345408</td>\n",
       "      <td>0.246377</td>\n",
       "      <td>0.448907</td>\n",
       "      <td>0.363937</td>\n",
       "      <td>0.326715</td>\n",
       "      <td>1.000000</td>\n",
       "    </tr>\n",
       "  </tbody>\n",
       "</table>\n",
       "</div>"
      ],
      "text/plain": [
       "                pid        HP    Attack   Defense   Sp. Atk   Sp. Def  \\\n",
       "pid        1.000000  0.097712  0.102664  0.094691  0.089199  0.085596   \n",
       "HP         0.097712  1.000000  0.422386  0.239622  0.362380  0.378718   \n",
       "Attack     0.102664  0.422386  1.000000  0.438687  0.396362  0.263990   \n",
       "Defense    0.094691  0.239622  0.438687  1.000000  0.223549  0.510747   \n",
       "Sp. Atk    0.089199  0.362380  0.396362  0.223549  1.000000  0.506121   \n",
       "Sp. Def    0.085596  0.378718  0.263990  0.510747  0.506121  1.000000   \n",
       "Speed      0.012181  0.175952  0.381240  0.015227  0.473018  0.259133   \n",
       "Legendary  0.154336  0.273620  0.345408  0.246377  0.448907  0.363937   \n",
       "\n",
       "              Speed  Legendary  \n",
       "pid        0.012181   0.154336  \n",
       "HP         0.175952   0.273620  \n",
       "Attack     0.381240   0.345408  \n",
       "Defense    0.015227   0.246377  \n",
       "Sp. Atk    0.473018   0.448907  \n",
       "Sp. Def    0.259133   0.363937  \n",
       "Speed      1.000000   0.326715  \n",
       "Legendary  0.326715   1.000000  "
      ]
     },
     "execution_count": 970,
     "metadata": {},
     "output_type": "execute_result"
    }
   ],
   "source": [
    "Pokemon_df.corr()"
   ]
  },
  {
   "cell_type": "markdown",
   "metadata": {},
   "source": [
    "#Correlation Matrix\n",
    "We can see that the variables are somewhat correlated. Attack variable with HP ,Defense and speed. Could be a problem for our modeling \n",
    "purposes in regression for example, (Multicollinearity); however, if a VIF test is conducted and the values are VIF<5, then it won't affect the model."
   ]
  },
  {
   "cell_type": "code",
   "execution_count": 972,
   "metadata": {},
   "outputs": [],
   "source": [
    "#Three Diminsional Exploration using Kmeans and adding speed variable"
   ]
  },
  {
   "cell_type": "markdown",
   "metadata": {},
   "source": [
    "Questin 2: Compare the probability distribution of the “regular attack” feature with that of the “regular defense” feature. In particular,\n",
    "#visualize the relation between these two variables using an appropriate plot;\n",
    "#list the names of the 3 Pokémon with highest attack-over-defense ratio;\n",
    "#list the names of the 3 Pokémon with lowest attack-over-defense ratio;\n",
    "#list the names of the 10 Pokémon with the largest number of victories."
   ]
  },
  {
   "cell_type": "markdown",
   "metadata": {},
   "source": [
    "i) I ploted the histograms for the two variables above, and explained the distributions. I ploted the scatter plot that shows positive correlation between the two variables as seen above."
   ]
  },
  {
   "cell_type": "code",
   "execution_count": 977,
   "metadata": {},
   "outputs": [],
   "source": [
    "Pokemon_df['Attack/Defense Ratio'] = Pokemon_df['Attack']/ Pokemon_df['Defense']"
   ]
  },
  {
   "cell_type": "code",
   "execution_count": 982,
   "metadata": {},
   "outputs": [
    {
     "data": {
      "text/html": [
       "<div>\n",
       "<style scoped>\n",
       "    .dataframe tbody tr th:only-of-type {\n",
       "        vertical-align: middle;\n",
       "    }\n",
       "\n",
       "    .dataframe tbody tr th {\n",
       "        vertical-align: top;\n",
       "    }\n",
       "\n",
       "    .dataframe thead th {\n",
       "        text-align: right;\n",
       "    }\n",
       "</style>\n",
       "<table border=\"1\" class=\"dataframe\">\n",
       "  <thead>\n",
       "    <tr style=\"text-align: right;\">\n",
       "      <th></th>\n",
       "      <th>pid</th>\n",
       "      <th>Name</th>\n",
       "      <th>Class 1</th>\n",
       "      <th>Class 2</th>\n",
       "      <th>HP</th>\n",
       "      <th>Attack</th>\n",
       "      <th>Defense</th>\n",
       "      <th>Sp. Atk</th>\n",
       "      <th>Sp. Def</th>\n",
       "      <th>Speed</th>\n",
       "      <th>Legendary</th>\n",
       "      <th>Attack/Defense Ratio</th>\n",
       "    </tr>\n",
       "  </thead>\n",
       "  <tbody>\n",
       "    <tr>\n",
       "      <th>19</th>\n",
       "      <td>20</td>\n",
       "      <td>Mega Beedrill</td>\n",
       "      <td>Bug</td>\n",
       "      <td>Poison</td>\n",
       "      <td>65</td>\n",
       "      <td>150</td>\n",
       "      <td>40</td>\n",
       "      <td>15</td>\n",
       "      <td>80</td>\n",
       "      <td>145</td>\n",
       "      <td>False</td>\n",
       "      <td>3.75</td>\n",
       "    </tr>\n",
       "    <tr>\n",
       "      <th>347</th>\n",
       "      <td>348</td>\n",
       "      <td>Carvanha</td>\n",
       "      <td>Water</td>\n",
       "      <td>Dark</td>\n",
       "      <td>45</td>\n",
       "      <td>90</td>\n",
       "      <td>20</td>\n",
       "      <td>65</td>\n",
       "      <td>20</td>\n",
       "      <td>65</td>\n",
       "      <td>False</td>\n",
       "      <td>4.50</td>\n",
       "    </tr>\n",
       "    <tr>\n",
       "      <th>429</th>\n",
       "      <td>430</td>\n",
       "      <td>DeoxysAttack Forme</td>\n",
       "      <td>Psychic</td>\n",
       "      <td>NaN</td>\n",
       "      <td>50</td>\n",
       "      <td>180</td>\n",
       "      <td>20</td>\n",
       "      <td>180</td>\n",
       "      <td>20</td>\n",
       "      <td>150</td>\n",
       "      <td>True</td>\n",
       "      <td>9.00</td>\n",
       "    </tr>\n",
       "  </tbody>\n",
       "</table>\n",
       "</div>"
      ],
      "text/plain": [
       "     pid                Name  Class 1 Class 2  HP  Attack  Defense  Sp. Atk  \\\n",
       "19    20       Mega Beedrill      Bug  Poison  65     150       40       15   \n",
       "347  348            Carvanha    Water    Dark  45      90       20       65   \n",
       "429  430  DeoxysAttack Forme  Psychic     NaN  50     180       20      180   \n",
       "\n",
       "     Sp. Def  Speed  Legendary  Attack/Defense Ratio  \n",
       "19        80    145      False                  3.75  \n",
       "347       20     65      False                  4.50  \n",
       "429       20    150       True                  9.00  "
      ]
     },
     "execution_count": 982,
     "metadata": {},
     "output_type": "execute_result"
    }
   ],
   "source": [
    "Pokemon_df.sort_values('Attack/Defense Ratio').tail(3)"
   ]
  },
  {
   "cell_type": "code",
   "execution_count": 983,
   "metadata": {},
   "outputs": [
    {
     "data": {
      "text/html": [
       "<div>\n",
       "<style scoped>\n",
       "    .dataframe tbody tr th:only-of-type {\n",
       "        vertical-align: middle;\n",
       "    }\n",
       "\n",
       "    .dataframe tbody tr th {\n",
       "        vertical-align: top;\n",
       "    }\n",
       "\n",
       "    .dataframe thead th {\n",
       "        text-align: right;\n",
       "    }\n",
       "</style>\n",
       "<table border=\"1\" class=\"dataframe\">\n",
       "  <thead>\n",
       "    <tr style=\"text-align: right;\">\n",
       "      <th></th>\n",
       "      <th>pid</th>\n",
       "      <th>Name</th>\n",
       "      <th>Class 1</th>\n",
       "      <th>Class 2</th>\n",
       "      <th>HP</th>\n",
       "      <th>Attack</th>\n",
       "      <th>Defense</th>\n",
       "      <th>Sp. Atk</th>\n",
       "      <th>Sp. Def</th>\n",
       "      <th>Speed</th>\n",
       "      <th>Legendary</th>\n",
       "      <th>Attack/Defense Ratio</th>\n",
       "    </tr>\n",
       "  </thead>\n",
       "  <tbody>\n",
       "    <tr>\n",
       "      <th>230</th>\n",
       "      <td>231</td>\n",
       "      <td>Shuckle</td>\n",
       "      <td>Bug</td>\n",
       "      <td>Rock</td>\n",
       "      <td>20</td>\n",
       "      <td>10</td>\n",
       "      <td>230</td>\n",
       "      <td>10</td>\n",
       "      <td>230</td>\n",
       "      <td>5</td>\n",
       "      <td>False</td>\n",
       "      <td>0.043478</td>\n",
       "    </tr>\n",
       "    <tr>\n",
       "      <th>139</th>\n",
       "      <td>140</td>\n",
       "      <td>Magikarp</td>\n",
       "      <td>Water</td>\n",
       "      <td>NaN</td>\n",
       "      <td>20</td>\n",
       "      <td>10</td>\n",
       "      <td>55</td>\n",
       "      <td>15</td>\n",
       "      <td>20</td>\n",
       "      <td>80</td>\n",
       "      <td>False</td>\n",
       "      <td>0.181818</td>\n",
       "    </tr>\n",
       "    <tr>\n",
       "      <th>484</th>\n",
       "      <td>485</td>\n",
       "      <td>Bronzor</td>\n",
       "      <td>Steel</td>\n",
       "      <td>Psychic</td>\n",
       "      <td>57</td>\n",
       "      <td>24</td>\n",
       "      <td>86</td>\n",
       "      <td>24</td>\n",
       "      <td>86</td>\n",
       "      <td>23</td>\n",
       "      <td>False</td>\n",
       "      <td>0.279070</td>\n",
       "    </tr>\n",
       "  </tbody>\n",
       "</table>\n",
       "</div>"
      ],
      "text/plain": [
       "     pid      Name Class 1  Class 2  HP  Attack  Defense  Sp. Atk  Sp. Def  \\\n",
       "230  231   Shuckle     Bug     Rock  20      10      230       10      230   \n",
       "139  140  Magikarp   Water      NaN  20      10       55       15       20   \n",
       "484  485   Bronzor   Steel  Psychic  57      24       86       24       86   \n",
       "\n",
       "     Speed  Legendary  Attack/Defense Ratio  \n",
       "230      5      False              0.043478  \n",
       "139     80      False              0.181818  \n",
       "484     23      False              0.279070  "
      ]
     },
     "execution_count": 983,
     "metadata": {},
     "output_type": "execute_result"
    }
   ],
   "source": [
    "Pokemon_df.sort_values('Attack/Defense Ratio').head(3)"
   ]
  },
  {
   "cell_type": "code",
   "execution_count": 63,
   "metadata": {},
   "outputs": [],
   "source": [
    "Num_Wins =  pd.DataFrame(Combats_df['Winner'].value_counts())"
   ]
  },
  {
   "cell_type": "code",
   "execution_count": 64,
   "metadata": {},
   "outputs": [],
   "source": [
    "Num_Wins.reset_index(level=0, inplace=True)"
   ]
  },
  {
   "cell_type": "code",
   "execution_count": 65,
   "metadata": {},
   "outputs": [
    {
     "data": {
      "text/html": [
       "<div>\n",
       "<style scoped>\n",
       "    .dataframe tbody tr th:only-of-type {\n",
       "        vertical-align: middle;\n",
       "    }\n",
       "\n",
       "    .dataframe tbody tr th {\n",
       "        vertical-align: top;\n",
       "    }\n",
       "\n",
       "    .dataframe thead th {\n",
       "        text-align: right;\n",
       "    }\n",
       "</style>\n",
       "<table border=\"1\" class=\"dataframe\">\n",
       "  <thead>\n",
       "    <tr style=\"text-align: right;\">\n",
       "      <th></th>\n",
       "      <th>index</th>\n",
       "      <th>Winner</th>\n",
       "    </tr>\n",
       "  </thead>\n",
       "  <tbody>\n",
       "    <tr>\n",
       "      <th>0</th>\n",
       "      <td>163</td>\n",
       "      <td>152</td>\n",
       "    </tr>\n",
       "    <tr>\n",
       "      <th>1</th>\n",
       "      <td>154</td>\n",
       "      <td>136</td>\n",
       "    </tr>\n",
       "    <tr>\n",
       "      <th>2</th>\n",
       "      <td>438</td>\n",
       "      <td>136</td>\n",
       "    </tr>\n",
       "    <tr>\n",
       "      <th>3</th>\n",
       "      <td>428</td>\n",
       "      <td>134</td>\n",
       "    </tr>\n",
       "    <tr>\n",
       "      <th>4</th>\n",
       "      <td>432</td>\n",
       "      <td>133</td>\n",
       "    </tr>\n",
       "  </tbody>\n",
       "</table>\n",
       "</div>"
      ],
      "text/plain": [
       "   index  Winner\n",
       "0    163     152\n",
       "1    154     136\n",
       "2    438     136\n",
       "3    428     134\n",
       "4    432     133"
      ]
     },
     "execution_count": 65,
     "metadata": {},
     "output_type": "execute_result"
    }
   ],
   "source": [
    "Num_Wins.head()"
   ]
  },
  {
   "cell_type": "code",
   "execution_count": 66,
   "metadata": {},
   "outputs": [],
   "source": [
    "Num_Wins.columns = ['pid', 'Number_Of_Wins']"
   ]
  },
  {
   "cell_type": "code",
   "execution_count": 67,
   "metadata": {
    "scrolled": true
   },
   "outputs": [
    {
     "data": {
      "text/html": [
       "<div>\n",
       "<style scoped>\n",
       "    .dataframe tbody tr th:only-of-type {\n",
       "        vertical-align: middle;\n",
       "    }\n",
       "\n",
       "    .dataframe tbody tr th {\n",
       "        vertical-align: top;\n",
       "    }\n",
       "\n",
       "    .dataframe thead th {\n",
       "        text-align: right;\n",
       "    }\n",
       "</style>\n",
       "<table border=\"1\" class=\"dataframe\">\n",
       "  <thead>\n",
       "    <tr style=\"text-align: right;\">\n",
       "      <th></th>\n",
       "      <th>pid</th>\n",
       "      <th>Number_Of_Wins</th>\n",
       "    </tr>\n",
       "  </thead>\n",
       "  <tbody>\n",
       "    <tr>\n",
       "      <th>0</th>\n",
       "      <td>163</td>\n",
       "      <td>152</td>\n",
       "    </tr>\n",
       "    <tr>\n",
       "      <th>1</th>\n",
       "      <td>154</td>\n",
       "      <td>136</td>\n",
       "    </tr>\n",
       "    <tr>\n",
       "      <th>2</th>\n",
       "      <td>438</td>\n",
       "      <td>136</td>\n",
       "    </tr>\n",
       "    <tr>\n",
       "      <th>3</th>\n",
       "      <td>428</td>\n",
       "      <td>134</td>\n",
       "    </tr>\n",
       "    <tr>\n",
       "      <th>4</th>\n",
       "      <td>432</td>\n",
       "      <td>133</td>\n",
       "    </tr>\n",
       "  </tbody>\n",
       "</table>\n",
       "</div>"
      ],
      "text/plain": [
       "   pid  Number_Of_Wins\n",
       "0  163             152\n",
       "1  154             136\n",
       "2  438             136\n",
       "3  428             134\n",
       "4  432             133"
      ]
     },
     "execution_count": 67,
     "metadata": {},
     "output_type": "execute_result"
    }
   ],
   "source": [
    "Num_Wins.head()"
   ]
  },
  {
   "cell_type": "code",
   "execution_count": 68,
   "metadata": {},
   "outputs": [],
   "source": [
    "Pokemon_Num_wins_df = pd.merge(Pokemon_df, Num_Wins, how='inner', on='pid')"
   ]
  },
  {
   "cell_type": "code",
   "execution_count": 69,
   "metadata": {},
   "outputs": [
    {
     "data": {
      "text/html": [
       "<div>\n",
       "<style scoped>\n",
       "    .dataframe tbody tr th:only-of-type {\n",
       "        vertical-align: middle;\n",
       "    }\n",
       "\n",
       "    .dataframe tbody tr th {\n",
       "        vertical-align: top;\n",
       "    }\n",
       "\n",
       "    .dataframe thead th {\n",
       "        text-align: right;\n",
       "    }\n",
       "</style>\n",
       "<table border=\"1\" class=\"dataframe\">\n",
       "  <thead>\n",
       "    <tr style=\"text-align: right;\">\n",
       "      <th></th>\n",
       "      <th>pid</th>\n",
       "      <th>Name</th>\n",
       "      <th>Class 1</th>\n",
       "      <th>Class 2</th>\n",
       "      <th>HP</th>\n",
       "      <th>Attack</th>\n",
       "      <th>Defense</th>\n",
       "      <th>Sp. Atk</th>\n",
       "      <th>Sp. Def</th>\n",
       "      <th>Speed</th>\n",
       "      <th>Legendary</th>\n",
       "      <th>Number_Of_Wins</th>\n",
       "    </tr>\n",
       "  </thead>\n",
       "  <tbody>\n",
       "    <tr>\n",
       "      <th>0</th>\n",
       "      <td>1</td>\n",
       "      <td>Bulbasaur</td>\n",
       "      <td>Grass</td>\n",
       "      <td>Poison</td>\n",
       "      <td>45</td>\n",
       "      <td>49</td>\n",
       "      <td>49</td>\n",
       "      <td>65</td>\n",
       "      <td>65</td>\n",
       "      <td>45</td>\n",
       "      <td>False</td>\n",
       "      <td>37</td>\n",
       "    </tr>\n",
       "    <tr>\n",
       "      <th>1</th>\n",
       "      <td>2</td>\n",
       "      <td>Ivysaur</td>\n",
       "      <td>Grass</td>\n",
       "      <td>Poison</td>\n",
       "      <td>60</td>\n",
       "      <td>62</td>\n",
       "      <td>63</td>\n",
       "      <td>80</td>\n",
       "      <td>80</td>\n",
       "      <td>60</td>\n",
       "      <td>False</td>\n",
       "      <td>46</td>\n",
       "    </tr>\n",
       "    <tr>\n",
       "      <th>2</th>\n",
       "      <td>3</td>\n",
       "      <td>Venusaur</td>\n",
       "      <td>Grass</td>\n",
       "      <td>Poison</td>\n",
       "      <td>80</td>\n",
       "      <td>82</td>\n",
       "      <td>83</td>\n",
       "      <td>100</td>\n",
       "      <td>100</td>\n",
       "      <td>80</td>\n",
       "      <td>False</td>\n",
       "      <td>89</td>\n",
       "    </tr>\n",
       "    <tr>\n",
       "      <th>3</th>\n",
       "      <td>4</td>\n",
       "      <td>Mega Venusaur</td>\n",
       "      <td>Grass</td>\n",
       "      <td>Poison</td>\n",
       "      <td>80</td>\n",
       "      <td>100</td>\n",
       "      <td>123</td>\n",
       "      <td>122</td>\n",
       "      <td>120</td>\n",
       "      <td>80</td>\n",
       "      <td>False</td>\n",
       "      <td>70</td>\n",
       "    </tr>\n",
       "    <tr>\n",
       "      <th>4</th>\n",
       "      <td>5</td>\n",
       "      <td>Charmander</td>\n",
       "      <td>Fire</td>\n",
       "      <td>NaN</td>\n",
       "      <td>39</td>\n",
       "      <td>52</td>\n",
       "      <td>43</td>\n",
       "      <td>60</td>\n",
       "      <td>50</td>\n",
       "      <td>65</td>\n",
       "      <td>False</td>\n",
       "      <td>55</td>\n",
       "    </tr>\n",
       "  </tbody>\n",
       "</table>\n",
       "</div>"
      ],
      "text/plain": [
       "   pid           Name Class 1 Class 2  HP  Attack  Defense  Sp. Atk  Sp. Def  \\\n",
       "0    1      Bulbasaur   Grass  Poison  45      49       49       65       65   \n",
       "1    2        Ivysaur   Grass  Poison  60      62       63       80       80   \n",
       "2    3       Venusaur   Grass  Poison  80      82       83      100      100   \n",
       "3    4  Mega Venusaur   Grass  Poison  80     100      123      122      120   \n",
       "4    5     Charmander    Fire     NaN  39      52       43       60       50   \n",
       "\n",
       "   Speed  Legendary  Number_Of_Wins  \n",
       "0     45      False              37  \n",
       "1     60      False              46  \n",
       "2     80      False              89  \n",
       "3     80      False              70  \n",
       "4     65      False              55  "
      ]
     },
     "execution_count": 69,
     "metadata": {},
     "output_type": "execute_result"
    }
   ],
   "source": [
    "Pokemon_Num_wins_df.head()"
   ]
  },
  {
   "cell_type": "code",
   "execution_count": 70,
   "metadata": {},
   "outputs": [
    {
     "data": {
      "text/html": [
       "<div>\n",
       "<style scoped>\n",
       "    .dataframe tbody tr th:only-of-type {\n",
       "        vertical-align: middle;\n",
       "    }\n",
       "\n",
       "    .dataframe tbody tr th {\n",
       "        vertical-align: top;\n",
       "    }\n",
       "\n",
       "    .dataframe thead th {\n",
       "        text-align: right;\n",
       "    }\n",
       "</style>\n",
       "<table border=\"1\" class=\"dataframe\">\n",
       "  <thead>\n",
       "    <tr style=\"text-align: right;\">\n",
       "      <th></th>\n",
       "      <th>pid</th>\n",
       "      <th>Name</th>\n",
       "      <th>Class 1</th>\n",
       "      <th>Class 2</th>\n",
       "      <th>HP</th>\n",
       "      <th>Attack</th>\n",
       "      <th>Defense</th>\n",
       "      <th>Sp. Atk</th>\n",
       "      <th>Sp. Def</th>\n",
       "      <th>Speed</th>\n",
       "      <th>Legendary</th>\n",
       "      <th>Number_Of_Wins</th>\n",
       "    </tr>\n",
       "  </thead>\n",
       "  <tbody>\n",
       "    <tr>\n",
       "      <th>147</th>\n",
       "      <td>155</td>\n",
       "      <td>Mega Aerodactyl</td>\n",
       "      <td>Rock</td>\n",
       "      <td>Flying</td>\n",
       "      <td>80</td>\n",
       "      <td>135</td>\n",
       "      <td>85</td>\n",
       "      <td>70</td>\n",
       "      <td>95</td>\n",
       "      <td>150</td>\n",
       "      <td>False</td>\n",
       "      <td>127</td>\n",
       "    </tr>\n",
       "    <tr>\n",
       "      <th>238</th>\n",
       "      <td>249</td>\n",
       "      <td>Mega Houndoom</td>\n",
       "      <td>Dark</td>\n",
       "      <td>Fire</td>\n",
       "      <td>75</td>\n",
       "      <td>90</td>\n",
       "      <td>90</td>\n",
       "      <td>140</td>\n",
       "      <td>90</td>\n",
       "      <td>115</td>\n",
       "      <td>False</td>\n",
       "      <td>128</td>\n",
       "    </tr>\n",
       "    <tr>\n",
       "      <th>205</th>\n",
       "      <td>214</td>\n",
       "      <td>Murkrow</td>\n",
       "      <td>Dark</td>\n",
       "      <td>Flying</td>\n",
       "      <td>60</td>\n",
       "      <td>85</td>\n",
       "      <td>42</td>\n",
       "      <td>85</td>\n",
       "      <td>42</td>\n",
       "      <td>91</td>\n",
       "      <td>False</td>\n",
       "      <td>130</td>\n",
       "    </tr>\n",
       "    <tr>\n",
       "      <th>382</th>\n",
       "      <td>394</td>\n",
       "      <td>Mega Absol</td>\n",
       "      <td>Dark</td>\n",
       "      <td>NaN</td>\n",
       "      <td>65</td>\n",
       "      <td>150</td>\n",
       "      <td>60</td>\n",
       "      <td>115</td>\n",
       "      <td>60</td>\n",
       "      <td>115</td>\n",
       "      <td>False</td>\n",
       "      <td>130</td>\n",
       "    </tr>\n",
       "    <tr>\n",
       "      <th>303</th>\n",
       "      <td>314</td>\n",
       "      <td>Slaking</td>\n",
       "      <td>Normal</td>\n",
       "      <td>NaN</td>\n",
       "      <td>150</td>\n",
       "      <td>160</td>\n",
       "      <td>100</td>\n",
       "      <td>95</td>\n",
       "      <td>65</td>\n",
       "      <td>100</td>\n",
       "      <td>False</td>\n",
       "      <td>133</td>\n",
       "    </tr>\n",
       "    <tr>\n",
       "      <th>419</th>\n",
       "      <td>432</td>\n",
       "      <td>Deoxys Speed Forme</td>\n",
       "      <td>Psychic</td>\n",
       "      <td>NaN</td>\n",
       "      <td>50</td>\n",
       "      <td>95</td>\n",
       "      <td>90</td>\n",
       "      <td>95</td>\n",
       "      <td>90</td>\n",
       "      <td>180</td>\n",
       "      <td>True</td>\n",
       "      <td>133</td>\n",
       "    </tr>\n",
       "    <tr>\n",
       "      <th>415</th>\n",
       "      <td>428</td>\n",
       "      <td>Jirachi</td>\n",
       "      <td>Steel</td>\n",
       "      <td>Psychic</td>\n",
       "      <td>100</td>\n",
       "      <td>100</td>\n",
       "      <td>100</td>\n",
       "      <td>100</td>\n",
       "      <td>100</td>\n",
       "      <td>100</td>\n",
       "      <td>True</td>\n",
       "      <td>134</td>\n",
       "    </tr>\n",
       "    <tr>\n",
       "      <th>425</th>\n",
       "      <td>438</td>\n",
       "      <td>Infernape</td>\n",
       "      <td>Fire</td>\n",
       "      <td>Fighting</td>\n",
       "      <td>76</td>\n",
       "      <td>104</td>\n",
       "      <td>71</td>\n",
       "      <td>104</td>\n",
       "      <td>71</td>\n",
       "      <td>108</td>\n",
       "      <td>False</td>\n",
       "      <td>136</td>\n",
       "    </tr>\n",
       "    <tr>\n",
       "      <th>146</th>\n",
       "      <td>154</td>\n",
       "      <td>Aerodactyl</td>\n",
       "      <td>Rock</td>\n",
       "      <td>Flying</td>\n",
       "      <td>80</td>\n",
       "      <td>105</td>\n",
       "      <td>65</td>\n",
       "      <td>60</td>\n",
       "      <td>75</td>\n",
       "      <td>130</td>\n",
       "      <td>False</td>\n",
       "      <td>136</td>\n",
       "    </tr>\n",
       "    <tr>\n",
       "      <th>155</th>\n",
       "      <td>163</td>\n",
       "      <td>Mewtwo</td>\n",
       "      <td>Psychic</td>\n",
       "      <td>NaN</td>\n",
       "      <td>106</td>\n",
       "      <td>110</td>\n",
       "      <td>90</td>\n",
       "      <td>154</td>\n",
       "      <td>90</td>\n",
       "      <td>130</td>\n",
       "      <td>True</td>\n",
       "      <td>152</td>\n",
       "    </tr>\n",
       "  </tbody>\n",
       "</table>\n",
       "</div>"
      ],
      "text/plain": [
       "     pid                Name  Class 1   Class 2   HP  Attack  Defense  \\\n",
       "147  155     Mega Aerodactyl     Rock    Flying   80     135       85   \n",
       "238  249       Mega Houndoom     Dark      Fire   75      90       90   \n",
       "205  214             Murkrow     Dark    Flying   60      85       42   \n",
       "382  394          Mega Absol     Dark       NaN   65     150       60   \n",
       "303  314             Slaking   Normal       NaN  150     160      100   \n",
       "419  432  Deoxys Speed Forme  Psychic       NaN   50      95       90   \n",
       "415  428             Jirachi    Steel   Psychic  100     100      100   \n",
       "425  438           Infernape     Fire  Fighting   76     104       71   \n",
       "146  154          Aerodactyl     Rock    Flying   80     105       65   \n",
       "155  163              Mewtwo  Psychic       NaN  106     110       90   \n",
       "\n",
       "     Sp. Atk  Sp. Def  Speed  Legendary  Number_Of_Wins  \n",
       "147       70       95    150      False             127  \n",
       "238      140       90    115      False             128  \n",
       "205       85       42     91      False             130  \n",
       "382      115       60    115      False             130  \n",
       "303       95       65    100      False             133  \n",
       "419       95       90    180       True             133  \n",
       "415      100      100    100       True             134  \n",
       "425      104       71    108      False             136  \n",
       "146       60       75    130      False             136  \n",
       "155      154       90    130       True             152  "
      ]
     },
     "execution_count": 70,
     "metadata": {},
     "output_type": "execute_result"
    }
   ],
   "source": [
    "Pokemon_Num_wins_df.sort_values('Number_Of_Wins').tail(10)"
   ]
  },
  {
   "cell_type": "markdown",
   "metadata": {},
   "source": [
    "It is abvious above that Mewtwo has the highest wins. Mewtwo is a Psychic pokemon, he is known in the pokemon world as the rarest and strongest pokemon to have ever existed. He is a Psychic pokemon closely related to Mew. The philosophy behind Mewtwo's creation was to make the world's strongest Pokémon. "
   ]
  },
  {
   "cell_type": "code",
   "execution_count": 1009,
   "metadata": {},
   "outputs": [
    {
     "data": {
      "text/plain": [
       "Text(0,0.5,'Wins')"
      ]
     },
     "execution_count": 1009,
     "metadata": {},
     "output_type": "execute_result"
    },
    {
     "data": {
      "image/png": "[encoded data removed]",
      "text/plain": [
       "<Figure size 432x288 with 1 Axes>"
      ]
     },
     "metadata": {},
     "output_type": "display_data"
    }
   ],
   "source": [
    "fig = plt.figure()\n",
    "ax = fig.add_subplot(111)\n",
    "plt.scatter(Pokemon_Num_wins_df['Attack'], Pokemon_Num_wins_df['Number_Of_Wins'])\n",
    "ax.set_title('Attack vs Wins Scatter plot')\n",
    "ax.set_xlabel('Attack')\n",
    "ax.set_ylabel('Wins')"
   ]
  },
  {
   "cell_type": "code",
   "execution_count": 1012,
   "metadata": {},
   "outputs": [
    {
     "data": {
      "text/html": [
       "<div>\n",
       "<style scoped>\n",
       "    .dataframe tbody tr th:only-of-type {\n",
       "        vertical-align: middle;\n",
       "    }\n",
       "\n",
       "    .dataframe tbody tr th {\n",
       "        vertical-align: top;\n",
       "    }\n",
       "\n",
       "    .dataframe thead th {\n",
       "        text-align: right;\n",
       "    }\n",
       "</style>\n",
       "<table border=\"1\" class=\"dataframe\">\n",
       "  <thead>\n",
       "    <tr style=\"text-align: right;\">\n",
       "      <th></th>\n",
       "      <th>Defense</th>\n",
       "      <th>Attack</th>\n",
       "      <th>Speed</th>\n",
       "      <th>Number_Of_Wins</th>\n",
       "    </tr>\n",
       "  </thead>\n",
       "  <tbody>\n",
       "    <tr>\n",
       "      <th>Defense</th>\n",
       "      <td>1.000000</td>\n",
       "      <td>0.464539</td>\n",
       "      <td>0.025762</td>\n",
       "      <td>0.142628</td>\n",
       "    </tr>\n",
       "    <tr>\n",
       "      <th>Attack</th>\n",
       "      <td>0.464539</td>\n",
       "      <td>1.000000</td>\n",
       "      <td>0.382310</td>\n",
       "      <td>0.502255</td>\n",
       "    </tr>\n",
       "    <tr>\n",
       "      <th>Speed</th>\n",
       "      <td>0.025762</td>\n",
       "      <td>0.382310</td>\n",
       "      <td>1.000000</td>\n",
       "      <td>0.918536</td>\n",
       "    </tr>\n",
       "    <tr>\n",
       "      <th>Number_Of_Wins</th>\n",
       "      <td>0.142628</td>\n",
       "      <td>0.502255</td>\n",
       "      <td>0.918536</td>\n",
       "      <td>1.000000</td>\n",
       "    </tr>\n",
       "  </tbody>\n",
       "</table>\n",
       "</div>"
      ],
      "text/plain": [
       "                 Defense    Attack     Speed  Number_Of_Wins\n",
       "Defense         1.000000  0.464539  0.025762        0.142628\n",
       "Attack          0.464539  1.000000  0.382310        0.502255\n",
       "Speed           0.025762  0.382310  1.000000        0.918536\n",
       "Number_Of_Wins  0.142628  0.502255  0.918536        1.000000"
      ]
     },
     "execution_count": 1012,
     "metadata": {},
     "output_type": "execute_result"
    }
   ],
   "source": [
    "Pokemon_Num_wins_df[['Defense','Attack','Speed','Number_Of_Wins']].corr()"
   ]
  },
  {
   "cell_type": "markdown",
   "metadata": {},
   "source": [
    "We can clearly see that there is a positive correlation between a pokemons attack and the number of wins they achieve in the Pokémon Stadium"
   ]
  },
  {
   "cell_type": "markdown",
   "metadata": {},
   "source": [
    "Question 3: Professor Oak suspects that Pokémon in the grass class have a stronger regular attack than those in the rock class. \n",
    "\n",
    "Check if he is right and convince him of your conclusion with statistical arguments. \n",
    "\n",
    "Note: If there are Pokémon that are in both classes, discard them. Note: You may assume that the distribution of the regular attack feature is normal for all Pokémon classes."
   ]
  },
  {
   "cell_type": "markdown",
   "metadata": {},
   "source": [
    "Assumptions: \n",
    "\n",
    "#The distribution of the regular attack feature is assumed to be normal; However, we know that in our early analysis of the distirbution it is skewed, so a non-parametric comparison of medians is to be used instead of a parametric one, comparison of means. But for the sake of this assignment we will use a parametric test to compare the two distributions.\n",
    "\n",
    "#H0: m1 =  m2\n",
    "#H1: m1 != m2"
   ]
  },
  {
   "cell_type": "code",
   "execution_count": null,
   "metadata": {},
   "outputs": [],
   "source": [
    "Grass_Pokemon_Df =[[]]"
   ]
  },
  {
   "cell_type": "code",
   "execution_count": null,
   "metadata": {},
   "outputs": [],
   "source": [
    "Rock_Pokemon_Df =[[]]"
   ]
  },
  {
   "cell_type": "code",
   "execution_count": 1022,
   "metadata": {},
   "outputs": [],
   "source": [
    "Grass_Pokemon_Df = Pokemon_Num_wins_df.loc[Pokemon_Num_wins_df['Class 1'] == \"Grass\"]"
   ]
  },
  {
   "cell_type": "code",
   "execution_count": 1024,
   "metadata": {},
   "outputs": [],
   "source": [
    "Rock_Pokemon_Df = Pokemon_Num_wins_df.loc[Pokemon_Num_wins_df['Class 1'] == \"Rock\"]"
   ]
  },
  {
   "cell_type": "code",
   "execution_count": 1036,
   "metadata": {},
   "outputs": [
    {
     "data": {
      "text/html": [
       "<div>\n",
       "<style scoped>\n",
       "    .dataframe tbody tr th:only-of-type {\n",
       "        vertical-align: middle;\n",
       "    }\n",
       "\n",
       "    .dataframe tbody tr th {\n",
       "        vertical-align: top;\n",
       "    }\n",
       "\n",
       "    .dataframe thead th {\n",
       "        text-align: right;\n",
       "    }\n",
       "</style>\n",
       "<table border=\"1\" class=\"dataframe\">\n",
       "  <thead>\n",
       "    <tr style=\"text-align: right;\">\n",
       "      <th></th>\n",
       "      <th>pid</th>\n",
       "      <th>Name</th>\n",
       "      <th>Class 1</th>\n",
       "      <th>Class 2</th>\n",
       "      <th>HP</th>\n",
       "      <th>Attack</th>\n",
       "      <th>Defense</th>\n",
       "      <th>Sp. Atk</th>\n",
       "      <th>Sp. Def</th>\n",
       "      <th>Speed</th>\n",
       "      <th>Legendary</th>\n",
       "      <th>Attack/Defense Ratio</th>\n",
       "      <th>Number_Of_Wins</th>\n",
       "    </tr>\n",
       "  </thead>\n",
       "  <tbody>\n",
       "    <tr>\n",
       "      <th>366</th>\n",
       "      <td>378</td>\n",
       "      <td>Lileep</td>\n",
       "      <td>Rock</td>\n",
       "      <td>Grass</td>\n",
       "      <td>66</td>\n",
       "      <td>41</td>\n",
       "      <td>77</td>\n",
       "      <td>61</td>\n",
       "      <td>87</td>\n",
       "      <td>23</td>\n",
       "      <td>False</td>\n",
       "      <td>0.532468</td>\n",
       "      <td>15</td>\n",
       "    </tr>\n",
       "    <tr>\n",
       "      <th>367</th>\n",
       "      <td>379</td>\n",
       "      <td>Cradily</td>\n",
       "      <td>Rock</td>\n",
       "      <td>Grass</td>\n",
       "      <td>86</td>\n",
       "      <td>81</td>\n",
       "      <td>97</td>\n",
       "      <td>81</td>\n",
       "      <td>107</td>\n",
       "      <td>43</td>\n",
       "      <td>False</td>\n",
       "      <td>0.835052</td>\n",
       "      <td>26</td>\n",
       "    </tr>\n",
       "  </tbody>\n",
       "</table>\n",
       "</div>"
      ],
      "text/plain": [
       "     pid     Name Class 1 Class 2  HP  Attack  Defense  Sp. Atk  Sp. Def  \\\n",
       "366  378   Lileep    Rock   Grass  66      41       77       61       87   \n",
       "367  379  Cradily    Rock   Grass  86      81       97       81      107   \n",
       "\n",
       "     Speed  Legendary  Attack/Defense Ratio  Number_Of_Wins  \n",
       "366     23      False              0.532468              15  \n",
       "367     43      False              0.835052              26  "
      ]
     },
     "execution_count": 1036,
     "metadata": {},
     "output_type": "execute_result"
    }
   ],
   "source": [
    "#Rock of class Grass we will drop these.\n",
    "\n",
    "Rock_Pokemon_Df.loc[Rock_Pokemon_Df['Class 2'] == \"Grass\"]"
   ]
  },
  {
   "cell_type": "code",
   "execution_count": null,
   "metadata": {},
   "outputs": [],
   "source": [
    "#Remove Pokemons with class 2 as Rock"
   ]
  },
  {
   "cell_type": "code",
   "execution_count": 1041,
   "metadata": {},
   "outputs": [],
   "source": [
    "Rock_Pokemon_Df2 = Rock_Pokemon_Df2.drop(366)"
   ]
  },
  {
   "cell_type": "code",
   "execution_count": 1042,
   "metadata": {},
   "outputs": [
    {
     "data": {
      "text/html": [
       "<div>\n",
       "<style scoped>\n",
       "    .dataframe tbody tr th:only-of-type {\n",
       "        vertical-align: middle;\n",
       "    }\n",
       "\n",
       "    .dataframe tbody tr th {\n",
       "        vertical-align: top;\n",
       "    }\n",
       "\n",
       "    .dataframe thead th {\n",
       "        text-align: right;\n",
       "    }\n",
       "</style>\n",
       "<table border=\"1\" class=\"dataframe\">\n",
       "  <thead>\n",
       "    <tr style=\"text-align: right;\">\n",
       "      <th></th>\n",
       "      <th>pid</th>\n",
       "      <th>Name</th>\n",
       "      <th>Class 1</th>\n",
       "      <th>Class 2</th>\n",
       "      <th>HP</th>\n",
       "      <th>Attack</th>\n",
       "      <th>Defense</th>\n",
       "      <th>Sp. Atk</th>\n",
       "      <th>Sp. Def</th>\n",
       "      <th>Speed</th>\n",
       "      <th>Legendary</th>\n",
       "      <th>Attack/Defense Ratio</th>\n",
       "      <th>Number_Of_Wins</th>\n",
       "    </tr>\n",
       "  </thead>\n",
       "  <tbody>\n",
       "  </tbody>\n",
       "</table>\n",
       "</div>"
      ],
      "text/plain": [
       "Empty DataFrame\n",
       "Columns: [pid, Name, Class 1, Class 2, HP, Attack, Defense, Sp. Atk, Sp. Def, Speed, Legendary, Attack/Defense Ratio, Number_Of_Wins]\n",
       "Index: []"
      ]
     },
     "execution_count": 1042,
     "metadata": {},
     "output_type": "execute_result"
    }
   ],
   "source": [
    "Rock_Pokemon_Df2.loc[Rock_Pokemon_Df2['Class 2'] == \"Grass\"]"
   ]
  },
  {
   "cell_type": "code",
   "execution_count": null,
   "metadata": {},
   "outputs": [],
   "source": [
    "#Descriptive stats for the two"
   ]
  },
  {
   "cell_type": "code",
   "execution_count": 1051,
   "metadata": {},
   "outputs": [
    {
     "name": "stdout",
     "output_type": "stream",
     "text": [
      "Attack Mean: 94.38095238095238\n",
      "Attack Median: 95.0\n",
      "Attack Mode: 0     80\n",
      "1     95\n",
      "2    100\n",
      "3    105\n",
      "dtype: int64\n",
      "Attack Skewness: 0.21969033079684414\n",
      "Attack Kurtosis: -0.815186942399655\n",
      "Max Attack: 165\n",
      "Min Attack: 40\n",
      "Attack Range: 125\n",
      "Number of Obsv. 42\n"
     ]
    }
   ],
   "source": [
    "print(\"Attack Mean:\", Rock_Pokemon_Df2['Attack'].mean())\n",
    "print(\"Attack Median:\", Rock_Pokemon_Df2['Attack'].median())\n",
    "print(\"Attack Mode:\", Rock_Pokemon_Df2['Attack'].mode())\n",
    "print(\"Attack Skewness:\", Rock_Pokemon_Df2['Attack'].skew())\n",
    "print(\"Attack Kurtosis:\", Rock_Pokemon_Df2['Attack'].kurt())\n",
    "print(\"Max Attack:\",Rock_Pokemon_Df2['Attack'].max())\n",
    "print(\"Min Attack:\",Rock_Pokemon_Df2['Attack'].min())\n",
    "Range = (Rock_Pokemon_Df2['Attack'].max() - Rock_Pokemon_Df2['Attack'].min())\n",
    "print(\"Attack Range:\",Range)\n",
    "print(\"Number of Obsv.\", Rock_Pokemon_Df2['Attack'].count())"
   ]
  },
  {
   "cell_type": "code",
   "execution_count": 1050,
   "metadata": {},
   "outputs": [
    {
     "name": "stdout",
     "output_type": "stream",
     "text": [
      "Attack Mean: 72.74626865671642\n",
      "Attack Median: 70.0\n",
      "Attack Mode: 0    100\n",
      "dtype: int64\n",
      "Attack Skewness: 0.1939546475656336\n",
      "Attack Kurtosis: -0.6943862284351034\n",
      "Max Attack: 132\n",
      "Min Attack: 27\n",
      "Attack Range: 105\n",
      "Number of Obsv. 67\n"
     ]
    }
   ],
   "source": [
    "print(\"Attack Mean:\", Grass_Pokemon_Df['Attack'].mean())\n",
    "print(\"Attack Median:\", Grass_Pokemon_Df['Attack'].median())\n",
    "print(\"Attack Mode:\", Grass_Pokemon_Df['Attack'].mode())\n",
    "print(\"Attack Skewness:\", Grass_Pokemon_Df['Attack'].skew())\n",
    "print(\"Attack Kurtosis:\", Grass_Pokemon_Df['Attack'].kurt())\n",
    "print(\"Max Attack:\",Grass_Pokemon_Df['Attack'].max())\n",
    "print(\"Min Attack:\",Grass_Pokemon_Df['Attack'].min())\n",
    "Range = (Grass_Pokemon_Df['Attack'].max() - Grass_Pokemon_Df['Attack'].min())\n",
    "print(\"Attack Range:\",Range)\n",
    "print(\"Number of Obsv.\",Grass_Pokemon_Df['Attack'].count())"
   ]
  },
  {
   "cell_type": "markdown",
   "metadata": {},
   "source": [
    "Both distributions are leptokurtic, Ku<3. skewness close to zero."
   ]
  },
  {
   "cell_type": "markdown",
   "metadata": {},
   "source": [
    "Hypothesis Testing, Is there sufficient evidence to conclude that Rock pokemon have lower attacke average? using a confidence_lvl alpha = .05.\n",
    "\n",
    "H0: m1 – m2 = 0           Ha: m1 – m2 > 0\n",
    "\n",
    "Decision Rule: Accept Ha if the calculated p-value < .05."
   ]
  },
  {
   "attachments": {
    "Test_o16c.gif": {
     "image/gif": "[encoded data removed]"
    }
   },
   "cell_type": "markdown",
   "metadata": {},
   "source": [
    "![Test_o16c.gif](attachment:Test_o16c.gif)"
   ]
  },
  {
   "cell_type": "markdown",
   "metadata": {},
   "source": [
    "DF = (N1 - 1) + (N2 - 1) for independent samples)"
   ]
  },
  {
   "cell_type": "code",
   "execution_count": 1075,
   "metadata": {},
   "outputs": [
    {
     "data": {
      "text/plain": [
       "677.809915050981"
      ]
     },
     "execution_count": 1075,
     "metadata": {},
     "output_type": "execute_result"
    }
   ],
   "source": [
    "(np.std(Grass_Pokemon_Df['Attack']))**2 + (np.std(Rock_Pokemon_Df2['Attack']))"
   ]
  },
  {
   "cell_type": "code",
   "execution_count": 1081,
   "metadata": {},
   "outputs": [],
   "source": [
    "def TStat(X,Y):\n",
    "    t = ((np.mean(X) -np.mean(Y))-0)/ np.sqrt((((np.std(X))**2)/np.count_nonzero(X)) + (((np.std(Y))**2)/np.count_nonzero(Y))) \n",
    "    print(t)"
   ]
  },
  {
   "cell_type": "code",
   "execution_count": 1109,
   "metadata": {},
   "outputs": [],
   "source": [
    "X=[76,93,74,90,90,85,72,81,76,69,57,72,100,75,72,86,92,76,72,61,80,67]\n",
    "Y=[74,65,66,85,79,82,80,76,57,67,71,55,72,75,89,81,72,88,72,64,61,74,63,76,85,72]"
   ]
  },
  {
   "cell_type": "code",
   "execution_count": 1101,
   "metadata": {},
   "outputs": [
    {
     "name": "stdout",
     "output_type": "stream",
     "text": [
      "1.7153684246409426\n"
     ]
    }
   ],
   "source": [
    "TStat(X,Y) #Test my function."
   ]
  },
  {
   "cell_type": "code",
   "execution_count": 1108,
   "metadata": {},
   "outputs": [
    {
     "name": "stdout",
     "output_type": "stream",
     "text": [
      "-3.49321937488012\n"
     ]
    }
   ],
   "source": [
    "TStat(Grass_Pokemon_Df['Attack'],Rock_Pokemon_Df2['Attack'])"
   ]
  },
  {
   "cell_type": "code",
   "execution_count": 1112,
   "metadata": {},
   "outputs": [
    {
     "name": "stdout",
     "output_type": "stream",
     "text": [
      "Degrees of freedom: 107\n"
     ]
    }
   ],
   "source": [
    "df =(42-1)+(67-1)\n",
    "print('Degrees of freedom:', df)"
   ]
  },
  {
   "cell_type": "markdown",
   "metadata": {},
   "source": [
    "P-Value from Ptable at alpha = 0.05 and df =107\n",
    "\n",
    "The p-value is .00034.\n",
    "\n",
    "The result is significant at p < .05."
   ]
  },
  {
   "cell_type": "markdown",
   "metadata": {},
   "source": [
    "Calculations: t = -3.5, p-value = .00034 < .05 ---> Accept Ha\n",
    "\n",
    "Interpretation: At the .05 level of significance I conclude that the true mean of Grass pokemon is higher than those of the Rock pokemon. Supporting the doctors assumption that they are stronger on average."
   ]
  },
  {
   "attachments": {
    "Test_o12.gif": {
     "image/gif": "[encoded data removed]"
    }
   },
   "cell_type": "markdown",
   "metadata": {},
   "source": [
    "![Test_o12.gif](attachment:Test_o12.gif)"
   ]
  },
  {
   "cell_type": "markdown",
   "metadata": {},
   "source": [
    "Final Question: Professor Oak reveals to you that he has built a backdoor into every Pokedex in the world and that he is secretly dumping the memory of all devices to his servers. He expects to have the records of 1 billion combats soon, and one machine won’t be enough to handle all this data, so he wants you to use a scalable/Python method (Pyspark/dask/Python... your choice ! ). Your task: Solve problem 2iv above (“list the names of the 10 Pokémon with the largest number of victories”) map reduce implementation in Python. The output should be a Python list with 10 names sorted in descending order of number of victories. Note: You don’t need to run the code -- just list it! You should assume that you have two DataFrames (already loaded) called pokemon and combats, with the same schema as the small CSV files you’ve been working with above."
   ]
  },
  {
   "cell_type": "markdown",
   "metadata": {},
   "source": [
    "Let's say I want to use hadoop cluster for this Big Data problem. I will build a mapper, to aggregated the data as a first step, and then output would go into another python code in the reduce step to do the calculations. From a Mac terminal I would run the following:"
   ]
  },
  {
   "cell_type": "markdown",
   "metadata": {},
   "source": [
    "#Mapper 1 for Poke_Df\n",
    "\n",
    "#!/usr/bin/python\n",
    "\n",
    "import sys\n",
    "\n",
    "#read from standard input, let's say it's a text file instead of a pandas df, with columns split by \"|\".\n",
    "\n",
    "for line in sys.stdin: \n",
    "        #line = line.strip()\n",
    "       # word = line.split(\"|\") # File delemiter\n",
    "        \n",
    "        pid=\"0\"\n",
    "        Name=\"0\"\n",
    "        Class 1=\"0\" \t\n",
    "        Class 2 =\"0\"\t\n",
    "        HP \t=\"0\"\n",
    "        Attack =\"0\"\t\n",
    "        Defense=\"0\" \t\n",
    "        Sp. Atk=\"0\" \t\n",
    "        Sp. Def=\"0\" \t\n",
    "        Speed =\"0\"\t\n",
    "        Legendary=\"0\"\n",
    "        \n",
    "        #Assigne Index to variable\n",
    "        \n",
    "        pid=word[0]\n",
    "        Name=word[1]\n",
    "        Class 1=word[2]\t\n",
    "        Class 2 =word[3]\t\n",
    "        HP \t=word[4]\n",
    "        Attack =word[5]\t\n",
    "        Defense=word[6] \t\n",
    "        Sp. Atk=word[7] \t\n",
    "        Sp. Def=word[8] \t\n",
    "        Speed =word[9]\t\n",
    "        Legendary=word[10]\n",
    "        \n",
    "        print\"%s\\t%s\" %(pid, Name) #Dump name & pid\n",
    "        \n",
    "    "
   ]
  },
  {
   "cell_type": "markdown",
   "metadata": {},
   "source": [
    "#Mapper 2 for Combat_df\n",
    "\n",
    "for line in sys.stdin: \n",
    "        #line = line.strip()\n",
    "       # word = line.split(\"|\") # File delemiter\n",
    "        \n",
    "        First_pokemon=\"0\"\n",
    "        Second_pokemon=\"0\"\n",
    "        Winner=\"0\"\n",
    "        \n",
    "        #Assigne Index to variable\n",
    "        \n",
    "        \n",
    "        First_pokemon=word[0]\n",
    "        Second_pokemon=word[1]\n",
    "        Winner=word[2]\n",
    "        \n",
    "        print\"%s\\t%s\" %(Winner) #Dump Winner ID"
   ]
  },
  {
   "cell_type": "markdown",
   "metadata": {},
   "source": [
    "#Reduce\n",
    "\n",
    "#!/usr/bin/python\n",
    "\n",
    "import sys\n",
    "import string\n",
    "\n",
    "pid = \"\"\n",
    "Name = \"\"\n",
    "Winners =\"\"\n",
    "\n",
    "line = line.strip()\n",
    "Word = line.split(\"\\t\")\n",
    "    \n",
    "for line in sys.stdin:\n",
    "    #if len(word) == 2: # Poke have more columns than Combats\n",
    "        #pid = word[0]\n",
    "        #Name = word[1]\n",
    "    #else:\n",
    "        #winners = splits[0]\n",
    "       # c=0\n",
    "       # for i in pid:\n",
    "            #c+=1\n",
    "           # for j in winners:\n",
    "               # count = winners.value_counts()   \n",
    "               # if i == j:  \n",
    "               #     Name = Pokemon_df['Name'][c-1]\n",
    "               #     pid = i\n",
    "               #     wins = count[j]\n",
    "               #    print '%s\\t%s' % (pid,Name,wins) #Dump name, count, month\n",
    "\n"
   ]
  },
  {
   "cell_type": "code",
   "execution_count": 80,
   "metadata": {},
   "outputs": [
    {
     "name": "stdout",
     "output_type": "stream",
     "text": [
      "31 Pikachu 93\n",
      "37 Nidoqueen 66\n",
      "71 Alakazam 108\n",
      "80 Tentacruel 94\n",
      "95 Dewgong 68\n"
     ]
    }
   ],
   "source": [
    "#Reasoning behind Reduce \n",
    "c=0\n",
    "for i in Pokemon_df['pid'].head(100):\n",
    "    c+=1\n",
    "    for j in Combats_df['Winner'].head(100):\n",
    "        count = Combats_df['Winner'].value_counts()\n",
    "        if i == j:  \n",
    "            Name = Pokemon_df['Name'][c-1]\n",
    "            pid = i\n",
    "            wins = count[j]\n",
    "            print(pid,Name,wins)"
   ]
  },
  {
   "cell_type": "code",
   "execution_count": null,
   "metadata": {},
   "outputs": [],
   "source": [
    "#Pyspark\n",
    "#let's say data is stored on hdfs using hive tables\n",
    "\n",
    "from pyspark.sql import *\n",
    "from pyspark.sql.functions import *\n",
    "hive_context = HiveContext(sc)\n",
    "\n",
    "hive_context.sql(\"use Pokemon db\")\n",
    "sc.setLogLevel(\"ERROR\")\n",
    "\n",
    "data = hive_context.sql(\" Select * from Pokemon\")\n",
    "Pokemon_Df = data.select(['pid','Name']).toDF(\"pid\", \"name\")\n",
    "\n",
    "data2 = hive_context.sql(\" Select * from Combats\")\n",
    "Combats_Df = data.select(['Winner']).toDF(\"Winner\")\n",
    "\n",
    "#Once you import the data into python IDE you do the \n",
    "#same merge and value counts as the earlier question\n"
   ]
  },
  {
   "cell_type": "code",
   "execution_count": null,
   "metadata": {},
   "outputs": [],
   "source": []
  },
  {
   "cell_type": "code",
   "execution_count": null,
   "metadata": {},
   "outputs": [],
   "source": []
  },
  {
   "cell_type": "code",
   "execution_count": null,
   "metadata": {},
   "outputs": [],
   "source": []
  },
  {
   "cell_type": "code",
   "execution_count": null,
   "metadata": {},
   "outputs": [],
   "source": []
  },
  {
   "cell_type": "code",
   "execution_count": null,
   "metadata": {},
   "outputs": [],
   "source": []
  }
 ],
 "metadata": {
  "kernelspec": {
   "display_name": "Python 3",
   "language": "python",
   "name": "python3"
  },
  "language_info": {
   "codemirror_mode": {
    "name": "ipython",
    "version": 3
   },
   "file_extension": ".py",
   "mimetype": "text/x-python",
   "name": "python",
   "nbconvert_exporter": "python",
   "pygments_lexer": "ipython3",
   "version": "3.6.8"
  }
 },
 "nbformat": 4,
 "nbformat_minor": 2
}
